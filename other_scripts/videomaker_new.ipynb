{
 "cells": [
  {
   "cell_type": "markdown",
   "metadata": {},
   "source": [
    "# AOIs"
   ]
  },
  {
   "cell_type": "code",
   "execution_count": 9,
   "metadata": {},
   "outputs": [],
   "source": [
    "# Scott Trough\n",
    "# - year round from 2015/07/03 to 2023/12/31\n",
    "# - start of data period determined by compatibility with sentinel1_routines (Murashkins routine)\n",
    "# - 1792 scenes total\n",
    "scott_data_path = '/mnt/raid01/SAR/Sentinel-1/Arctic/ScottTrough/asdf/snap/'\n",
    "scott_data_path_big = '/mnt/raid01/SAR/Sentinel-1/Arctic/ScottTrough/asdf/snap_big/'\n",
    "scott_polygon_aoi = 'POLYGON((-70.75 71.19,-69.55 71.19,-69.55 71.59,-70.75 71.59,-70.75 71.19))'\n",
    "scott_polygon_big = 'POLYGON((-71.395 71.032, -68.645 71.032, -68.645 71.912, -71.395 71.912, -71.395 71.032))'\n",
    "scott_utm_zone_meridian = (19, -69)\n",
    "scott_aoi_landmask_sample = None\n",
    "scott_big_landmask_sample = '/mnt/raid01/SAR/Sentinel-1/Arctic/ScottTrough/asdf/snap_big/S1A_EW_GRDM_1SDH_20150717T112921_20150717T113021_006850_0093C2_03B7_BN_TN_CAL_SPCK_TC_Subset_dB_LSMask.tif'\n",
    "\n",
    "\n",
    "# Western Svalbard\n",
    "# - year round from 2017/01/01 to 2021/12/31\n",
    "# - data period determined by availability of high temporal density from S1A + S1B\n",
    "# - 2753 scenes total\n",
    "# - !!! 2 MISSING !!!\n",
    "svalard_data_path = '/mnt/raid01/SAR/Sentinel-1/Arctic/WesternSvalbard/pipeline_snap/'\n",
    "svalbard_polygon_aoi = 'POLYGON((9.74 78.3,11.45 78.3,11.45 78.7,9.74 78.7,9.74 78.3))'\n",
    "svalbard_utm_zone = (33, 15)\n",
    "svalbard_aoi_landmask_sample = '/mnt/raid01/SAR/Sentinel-1/Arctic/WesternSvalbard/pipeline_snap/S1A_EW_GRDM_1SDH_20170215T065537_20170215T065637_015291_0190FC_2B8E_SNAP.tif'\n",
    "\n",
    "\n",
    "\n",
    "# Nussaq\n",
    "# - year round from  only from 2017/01/01 to 2021/12/31 \n",
    "# - 1346 scenes total\n",
    "nussaq_data_path = '/mnt/raid01/SAR/Sentinel-1/Arctic/DiscoBay/Nussaq/pipeline_snap/'\n",
    "nussaq_polygon_aoi = 'POLYGON ((-56.14 70.20, -56.14 70.85, -53.66 70.85, -53.66 70.20, -56.14 70.20))'\n",
    "nussaq_utm_zone_meridian = (21,-57) \n",
    "nussaq_aoi_landmask_sample = '/mnt/raid01/SAR/Sentinel-1/Arctic/DiscoBay/Nussaq/pipeline_snap/S1A_EW_GRDM_1SDH_20180309T104041_20180309T104141_020937_023ED7_BC36_SNAP.tif'\n",
    "\n",
    "\n",
    "# Attu\n",
    "# - year round from 2015/07/03 to 2024/12/31\n",
    "# - 952 scenes total\n",
    "attu_data_path = '/mnt/raid01/SAR/Sentinel-1/Arctic/DiscoBay/Attu/pipeline_snap/'\n",
    "attu_polygon_aoi = 'POLYGON((-55.46 67.30, -53.36 67.30, -53.36 68.08, -55.46 68.08, -55.46 67.30))'\n",
    "attu_utm_zone_meridian = (21,-57) \n",
    "attu_aoi_landmask_sample = None\n",
    "\n",
    "# Kangaat\n",
    "# - year round from 2015/07/03 to 2024/09/17\n",
    "# - 895 scenes !!!! YET!!!!\n",
    "kangaat_data_path = '/mnt/raid01/SAR/Sentinel-1/Arctic/DiscoBay/Kangaat/asdf/snap/'\n",
    "kangaat_polygon_aoi = 'POLYGON((-55.10979969474843 68.44536073505672,-53.90696642393627 68.42745327139977,-53.96309992205016 68.00813587214579,-55.14414440975267 68.02566791055716,-55.10979969474843 68.44536073505672))'\n",
    "kangaat_utm_zone_meridian = (21,-57)\n",
    "kangaat_landmask_sample = None\n",
    "\n",
    "\n",
    "# Kugmallit\n",
    "# Barrow strait\n",
    "# Sentralbanken High\n",
    "# Primolizsa platform"
   ]
  },
  {
   "cell_type": "markdown",
   "metadata": {},
   "source": [
    "### Create a binary landmask based on a \"fit\" input image for the specific AOI"
   ]
  },
  {
   "cell_type": "code",
   "execution_count": null,
   "metadata": {},
   "outputs": [],
   "source": [
    "from osgeo import gdal\n",
    "import numpy as np\n",
    "import os\n",
    "\n",
    "def create_landmask(input_filename, output_filename):\n",
    "    \"\"\"\n",
    "    Creates a binary landmask geotiff from an input geotiff based on NaN values.\n",
    "\n",
    "    Parameters:\n",
    "    - input_filename: str, path to the input geotiff file.\n",
    "    - output_filename: str, path where the output landmask geotiff will be saved.\n",
    "    \"\"\"\n",
    "    # Open the input dataset\n",
    "    dataset = gdal.Open(input_filename)\n",
    "    if dataset is None:\n",
    "        print('Unable to open input geotiff.')\n",
    "        return\n",
    "    else:\n",
    "        print(f'Input geotiff \"{input_filename}\" opened successfully.')\n",
    "\n",
    "    # Read the first band (assuming single-band geotiff)\n",
    "    band = dataset.GetRasterBand(1)\n",
    "    data = band.ReadAsArray()\n",
    "    \n",
    "    # Get georeference info\n",
    "    geotransform = dataset.GetGeoTransform()\n",
    "    projection = dataset.GetProjection()\n",
    "    driver = dataset.GetDriver()\n",
    "\n",
    "    # Create landmask: 0 where data is not NaN, 1 where data is NaN\n",
    "    landmask = np.where(np.isnan(data), 1, 0).astype(np.uint8)  # use uint8 to save space\n",
    "\n",
    "    # Create the output dataset\n",
    "    out_dataset = driver.Create(output_filename, dataset.RasterXSize, dataset.RasterYSize, 1, gdal.GDT_Byte)\n",
    "    if out_dataset is None:\n",
    "        print('Unable to create output geotiff.')\n",
    "        return\n",
    "    else:\n",
    "        print(f'Output geotiff \"{output_filename}\" created successfully.')\n",
    "\n",
    "    # Set the georeference info to the output dataset\n",
    "    out_dataset.SetGeoTransform(geotransform)\n",
    "    out_dataset.SetProjection(projection)\n",
    "\n",
    "    # Write the landmask to the output dataset\n",
    "    out_band = out_dataset.GetRasterBand(1)\n",
    "    out_band.WriteArray(landmask)\n",
    "    out_band.FlushCache()\n",
    "\n",
    "    # Close the datasets\n",
    "    dataset = None\n",
    "    out_dataset = None\n",
    "\n",
    "    print('Landmask creation completed.')\n",
    "\n",
    "\n",
    "output_directory = '/mnt/raid01/SAR/Sentinel-1/Arctic/ArcticDeepSeepsData/AOIs_timeseries/landmasks/'\n",
    "\n",
    "input_filename = scott_big_landmask_sample\n",
    "landmask_path = os.path.join(output_directory, 'scott_big_landmask.tif')\n",
    "create_landmask(input_filename, landmask_path)\n"
   ]
  },
  {
   "cell_type": "markdown",
   "metadata": {},
   "source": [
    "### Create pngs with two colormaps: one for data, one for landmask"
   ]
  },
  {
   "cell_type": "code",
   "execution_count": 37,
   "metadata": {},
   "outputs": [],
   "source": [
    "import os\n",
    "import numpy as np\n",
    "from osgeo import gdal, ogr, osr\n",
    "from glob import glob\n",
    "from tqdm import tqdm\n",
    "from PIL import Image\n",
    "from multiprocessing import Pool\n",
    "\n",
    "def wkt_polygon_to_pixel_coords(wkt_polygon, dataset):\n",
    "    \"\"\"\n",
    "    Given a WKT polygon (in lat/lon, EPSG:4326) and an open GDAL dataset (in EPSG:32619),\n",
    "    return the polygon boundary in pixel coords.\n",
    "    For a simple rectangle, this yields 5 corners (first==last).\n",
    "    \"\"\"\n",
    "\n",
    "    # -------------------------\n",
    "    # 1) Parse WKT Geometry\n",
    "    # -------------------------\n",
    "    geom = ogr.CreateGeometryFromWkt(wkt_polygon)\n",
    "    if geom is None:\n",
    "        raise ValueError(\"Invalid WKT polygon.\")\n",
    "\n",
    "    # -------------------------\n",
    "    # 2) Set up the coordinate transform from EPSG:4326 -> EPSG:32619\n",
    "    #    (the same projection as your GeoTIFF)\n",
    "    # -------------------------\n",
    "    sref_src = osr.SpatialReference()\n",
    "    sref_src.ImportFromEPSG(4326)   # Lat/lon WGS84\n",
    "\n",
    "    sref_tgt = osr.SpatialReference()\n",
    "    sref_tgt.ImportFromEPSG(32619)  # WGS 84 / UTM zone 19N\n",
    "\n",
    "    coord_trans = osr.CoordinateTransformation(sref_src, sref_tgt)\n",
    "    geom.Transform(coord_trans)\n",
    "\n",
    "    # -------------------------\n",
    "    # 3) Read dataset info (GeoTransform)\n",
    "    # -------------------------\n",
    "    geo_transform = dataset.GetGeoTransform()   # [ originX, pixelSizeX, 0, originY, 0, pixelSizeY ]\n",
    "    # Typically: originX = 413097.013..., originY = 7980790.035..., pixelSizeX=40.0, pixelSizeY=-40.0\n",
    "    # Check with `dataset.GetProjection()` or `gdalinfo`.\n",
    "\n",
    "    # Helper to go from projected coordinates (E,N) to pixel/line:\n",
    "    def world_to_pixel(gt, x_geo, y_geo):\n",
    "        \"\"\"\n",
    "        Convert georeferenced coordinates (in EPSG:32619) to pixel (col,row).\n",
    "        \"\"\"\n",
    "        originX = gt[0]\n",
    "        pixelSizeX = gt[1]\n",
    "        originY = gt[3]\n",
    "        pixelSizeY = gt[5]\n",
    "        # col = (X - originX) / pixelSizeX\n",
    "        # row = (Y - originY) / pixelSizeY\n",
    "        col = int(round((x_geo - originX) / pixelSizeX))\n",
    "        row = int(round((y_geo - originY) / pixelSizeY))\n",
    "        return (col, row)\n",
    "\n",
    "    # -------------------------\n",
    "    # 4) Extract boundary points in the *transformed* geometry\n",
    "    # -------------------------\n",
    "    ring = geom.GetGeometryRef(0)  # outer ring\n",
    "    n_points = ring.GetPointCount()\n",
    "\n",
    "    pixel_coords = []\n",
    "    for i in range(n_points):\n",
    "        x_geo, y_geo, _ = ring.GetPoint(i)\n",
    "        # print(\"Transformed corner (UTM):\", x_geo, y_geo)\n",
    "        col, row = world_to_pixel(geo_transform, x_geo, y_geo)\n",
    "        pixel_coords.append((col, row))\n",
    "    return pixel_coords\n",
    "\n",
    "\n",
    "def _draw_polygon_on_array(img_array, pixel_coords, color=255, thickness=3):\n",
    "    \"\"\"\n",
    "    Draws the polygon boundary on a 2D numpy array (grayscale),\n",
    "    making the line 'thickness' pixels wide.\n",
    "    \"\"\"\n",
    "\n",
    "    def draw_line(arr, x0, y0, x1, y1, val=color):\n",
    "        dx = abs(x1 - x0)\n",
    "        dy = abs(y1 - y0)\n",
    "        sx = 1 if x0 < x1 else -1\n",
    "        sy = 1 if y0 < y1 else -1\n",
    "        err = dx - dy\n",
    "\n",
    "        x, y = x0, y0\n",
    "        while True:\n",
    "            # For each pixel on the line, fill a neighborhood of 'thickness'\n",
    "            fill_thickness(arr, x, y, thickness, val)\n",
    "            \n",
    "            if x == x1 and y == y1:\n",
    "                break\n",
    "            e2 = 2 * err\n",
    "            if e2 > -dy:\n",
    "                err -= dy\n",
    "                x += sx\n",
    "            if e2 < dx:\n",
    "                err += dx\n",
    "                y += sy\n",
    "\n",
    "    def fill_thickness(arr, cx, cy, t, val):\n",
    "        \"\"\"\n",
    "        Fill a (2t+1)x(2t+1) region around (cx, cy).\n",
    "        For thickness=3, that's a 7x7 region (center +- 3 pixels).\n",
    "        \"\"\"\n",
    "        radius = t // 2 if t > 2 else t\n",
    "        for rx in range(cx - radius, cx + radius + 1):\n",
    "            for ry in range(cy - radius, cy + radius + 1):\n",
    "                if 0 <= rx < arr.shape[1] and 0 <= ry < arr.shape[0]:\n",
    "                    arr[ry, rx] = val\n",
    "\n",
    "    # Now draw edges between consecutive points\n",
    "    for i in range(len(pixel_coords) - 1):\n",
    "        (x0, y0) = pixel_coords[i]\n",
    "        (x1, y1) = pixel_coords[i+1]\n",
    "        draw_line(img_array, x0, y0, x1, y1, color)\n",
    "\n",
    "def _fill_polygon_on_array(arr, pixel_coords, color=255):\n",
    "    \"\"\"\n",
    "    Rudimentary polygon fill (scan-line or use shapely rasterize).\n",
    "    But for a rectangle, you can just fill bounding box\n",
    "    if you trust corners are correct.\n",
    "    \"\"\"\n",
    "    cols = [pt[0] for pt in pixel_coords]\n",
    "    rows = [pt[1] for pt in pixel_coords]\n",
    "    min_c, max_c = min(cols), max(cols)\n",
    "    min_r, max_r = min(rows), max(rows)\n",
    "    # Clip to array bounds\n",
    "    min_c = max(min_c, 0)\n",
    "    min_r = max(min_r, 0)\n",
    "    max_c = min(max_c, arr.shape[1]-1)\n",
    "    max_r = min(max_r, arr.shape[0]-1)\n",
    "    arr[min_r:max_r+1, min_c:max_c+1] = color\n",
    "\n",
    "\n",
    "def _process_geotiff_file(args):\n",
    "    \"\"\"\n",
    "    Helper function to process a single GeoTIFF file and save as PNG.\n",
    "    Receives ONE tuple argument. We unpack it below.\n",
    "    \"\"\"\n",
    "    (\n",
    "        file_path,\n",
    "        landmask,\n",
    "        desired_height,\n",
    "        desired_width,\n",
    "        vmin,\n",
    "        vmax,\n",
    "        channel_num,\n",
    "        output_dir,\n",
    "        polygon_wkt\n",
    "    ) = args\n",
    "\n",
    "    try:\n",
    "        filename = os.path.basename(file_path)\n",
    "        output_filename = os.path.splitext(filename)[0] + \".png\"\n",
    "        output_path = os.path.join(output_dir, output_filename)\n",
    "        \n",
    "        # Load data from GeoTIFF\n",
    "        dataset = gdal.Open(file_path)\n",
    "        if dataset is None:\n",
    "            print(f\"[Warning] Unable to open geotiff file: {file_path}\")\n",
    "            return False\n",
    "\n",
    "        band = dataset.GetRasterBand(channel_num)\n",
    "        data = band.ReadAsArray()\n",
    "        \n",
    "        # Truncate to desired size\n",
    "        data = data[:desired_height, :desired_width]\n",
    "\n",
    "        # Ensure landmask and data have the same shape\n",
    "        if data.shape != landmask.shape:\n",
    "            print(f\"[Warning] Dimension mismatch (data vs landmask) for file: {file_path}\")\n",
    "            dataset = None\n",
    "            return False\n",
    "\n",
    "        # Create output array\n",
    "        output_array = np.zeros_like(data, dtype=np.uint8)\n",
    "\n",
    "        # Masks\n",
    "        # According to your script, \"landmask == 1\" => ocean\n",
    "        land_pixel_mask   = (landmask == 1)\n",
    "        border_pixel_mask = np.isnan(data) & (~land_pixel_mask)\n",
    "        ocean_pixels_mask = (~np.isnan(data)) & (~land_pixel_mask)\n",
    "\n",
    "        # Extract ocean data\n",
    "        data_ocean = data[ocean_pixels_mask]\n",
    "        if data_ocean.size == 0:\n",
    "            # No valid ocean pixels\n",
    "            print(f\"[Warning] No valid ocean pixels found in {file_path}\")\n",
    "            dataset = None\n",
    "            return False\n",
    "\n",
    "        # Clip & normalize ocean pixels\n",
    "        data_ocean_clipped = np.clip(data_ocean, vmin, vmax)\n",
    "        data_ocean_normalized = (data_ocean_clipped - vmin) / (vmax - vmin) * 255\n",
    "        output_array[ocean_pixels_mask] = data_ocean_normalized.astype(np.uint8)\n",
    "\n",
    "        # Border value: median of ocean pixels\n",
    "        border_value = np.median(data_ocean)\n",
    "        border_value_normalized = np.clip(border_value, vmin, vmax)\n",
    "        border_value_normalized = (border_value_normalized - vmin) / (vmax - vmin) * 255\n",
    "        border_value_normalized = int(border_value_normalized)\n",
    "\n",
    "        # Assign border value\n",
    "        output_array[border_pixel_mask] = border_value_normalized\n",
    "\n",
    "        # --------------------------------------------\n",
    "        # Draw the rectangle from WKT (lat/lon -> UTM)\n",
    "        # --------------------------------------------\n",
    "        if polygon_wkt is not None:\n",
    "            # print(f\"[Info] Drawing polygon on image: {polygon_wkt}\")\n",
    "            pixel_coords = wkt_polygon_to_pixel_coords(polygon_wkt, dataset)\n",
    "            _draw_polygon_on_array(output_array, pixel_coords, color=255, thickness=5)\n",
    "            \n",
    "        # Convert to PIL image and save\n",
    "        image = Image.fromarray(output_array, mode=\"L\")\n",
    "        image.save(output_path)\n",
    "\n",
    "        dataset = None\n",
    "        return True\n",
    "\n",
    "    except Exception as e:\n",
    "        print(f\"[Error] Unexpected exception with file {file_path}:\\n{e}\")\n",
    "        return False\n",
    "\n",
    "\n",
    "def convert_geotiffs_to_pngs(\n",
    "    input_dir,\n",
    "    landmask_path,\n",
    "    output_dir,\n",
    "    desired_width,\n",
    "    desired_height,\n",
    "    vmin,\n",
    "    vmax,\n",
    "    channel_num=1,\n",
    "    flag_calc_vmin_vmax=False,\n",
    "    num_processes=8,\n",
    "    polygon_wkt=None\n",
    "):\n",
    "    \"\"\"\n",
    "    Converts GeoTIFF data into PNGs using parallel processing.\n",
    "    Draws a rectangle derived from a WKT in lat/lon (EPSG:4326),\n",
    "    transformed to match the dataset's UTM projection (EPSG:32619).\n",
    "    \"\"\"\n",
    "    if not os.path.exists(output_dir):\n",
    "        os.makedirs(output_dir)\n",
    "    \n",
    "    geotiff_files = glob(os.path.join(input_dir, \"*.tif\"))\n",
    "    if not geotiff_files:\n",
    "        print(\"[Info] No geotiff files found in input directory.\")\n",
    "        return\n",
    "    \n",
    "    # Load landmask\n",
    "    landmask_dataset = gdal.Open(landmask_path)\n",
    "    if landmask_dataset is None:\n",
    "        print(\"[Error] Unable to open landmask geotiff.\")\n",
    "        return\n",
    "    landmask_band = landmask_dataset.GetRasterBand(1)\n",
    "    landmask = landmask_band.ReadAsArray()\n",
    "    landmask_dataset = None\n",
    "\n",
    "    # Truncate landmask\n",
    "    landmask = landmask[:desired_height, :desired_width]\n",
    "\n",
    "    # If requested, compute vmin/vmax from data\n",
    "    if flag_calc_vmin_vmax:\n",
    "        print(\"[Info] Computing global vmin/vmax from percentiles...\")\n",
    "        data_values = []\n",
    "        for file_path in tqdm(geotiff_files, desc=\"Gathering data stats\"):\n",
    "            ds = gdal.Open(file_path)\n",
    "            if ds is None:\n",
    "                continue\n",
    "            band = ds.GetRasterBand(channel_num)\n",
    "            data = band.ReadAsArray()\n",
    "            ds = None\n",
    "\n",
    "            data = data[:desired_height, :desired_width]\n",
    "\n",
    "            # Only ocean pixels => (landmask == 1)\n",
    "            mask = (~np.isnan(data)) & (landmask == 1)\n",
    "            data_vals = data[mask]\n",
    "            data_values.extend(data_vals)\n",
    "\n",
    "        data_values = np.array(data_values)\n",
    "        if data_values.size == 0:\n",
    "            print(\"[Error] No data pixels found for percentile computation.\")\n",
    "            return\n",
    "\n",
    "        lower = 0.135\n",
    "        upper = 99.865\n",
    "        vmin = np.percentile(data_values, lower)\n",
    "        vmax = np.percentile(data_values, upper)\n",
    "        print(f\"[Info] Computed vmin={vmin}, vmax={vmax}\")\n",
    "\n",
    "    # Build arguments for each file\n",
    "    args_list = []\n",
    "    for file_path in geotiff_files:\n",
    "        args_list.append((\n",
    "            file_path,\n",
    "            landmask,\n",
    "            desired_height,\n",
    "            desired_width,\n",
    "            vmin,\n",
    "            vmax,\n",
    "            channel_num,\n",
    "            output_dir,\n",
    "            polygon_wkt\n",
    "        ))\n",
    "\n",
    "    print(\"[Info] Starting parallel conversion...\")\n",
    "\n",
    "    with Pool(processes=num_processes) as p:\n",
    "        results_iter = p.imap_unordered(_process_geotiff_file, args_list)\n",
    "        for _ in tqdm(results_iter, total=len(args_list), desc=\"Converting\"):\n",
    "            pass\n",
    "\n",
    "    print(\"[Info] Conversion completed.\")\n"
   ]
  },
  {
   "cell_type": "code",
   "execution_count": null,
   "metadata": {},
   "outputs": [
    {
     "name": "stdout",
     "output_type": "stream",
     "text": [
      "[Info] Starting parallel conversion...\n"
     ]
    },
    {
     "name": "stderr",
     "output_type": "stream",
     "text": [
      "Converting:   0%|          | 0/1792 [00:00<?, ?it/s]"
     ]
    },
    {
     "name": "stdout",
     "output_type": "stream",
     "text": [
      "[Warning] Dimension mismatch (data vs landmask) for file: /mnt/raid01/SAR/Sentinel-1/Arctic/ScottTrough/asdf/snap_big/S1A_EW_GRDM_1SDH_20170709T115432_20170709T115532_017394_01D0DF_4DA8_BN_TN_CAL_SPCK_TC_Subset_dB_LSMask.tif\n"
     ]
    },
    {
     "name": "stderr",
     "output_type": "stream",
     "text": [
      "Converting:   0%|          | 1/1792 [00:00<10:27,  2.85it/s]"
     ]
    },
    {
     "name": "stdout",
     "output_type": "stream",
     "text": [
      "[Warning] Dimension mismatch (data vs landmask) for file: /mnt/raid01/SAR/Sentinel-1/Arctic/ScottTrough/asdf/snap_big/S1A_EW_GRDM_1SDH_20180330T115433_20180330T115533_021244_024898_71FA_BN_TN_CAL_SPCK_TC_Subset_dB_LSMask.tif\n",
      "[Warning] Dimension mismatch (data vs landmask) for file: /mnt/raid01/SAR/Sentinel-1/Arctic/ScottTrough/asdf/snap_big/S1A_EW_GRDM_1SDH_20170522T115429_20170522T115529_016694_01BB77_AF3F_BN_TN_CAL_SPCK_TC_Subset_dB_LSMask.tif\n"
     ]
    },
    {
     "name": "stderr",
     "output_type": "stream",
     "text": [
      "Converting:   0%|          | 3/1792 [00:00<04:28,  6.67it/s]"
     ]
    },
    {
     "name": "stdout",
     "output_type": "stream",
     "text": [
      "[Warning] Dimension mismatch (data vs landmask) for file: /mnt/raid01/SAR/Sentinel-1/Arctic/ScottTrough/asdf/snap_big/S1A_EW_GRDM_1SDH_20170627T115431_20170627T115531_017219_01CB9B_4519_BN_TN_CAL_SPCK_TC_Subset_dB_LSMask.tif\n",
      "[Warning] Dimension mismatch (data vs landmask) for file: /mnt/raid01/SAR/Sentinel-1/Arctic/ScottTrough/asdf/snap_big/S1A_EW_GRDM_1SDH_20170721T115432_20170721T115532_017569_01D632_6B20_BN_TN_CAL_SPCK_TC_Subset_dB_LSMask.tif\n",
      "[Warning] Dimension mismatch (data vs landmask) for file: /mnt/raid01/SAR/Sentinel-1/Arctic/ScottTrough/asdf/snap_big/S1B_EW_GRDM_1SDH_20171213T212834_20171213T212924_008706_00F7AF_B59C_BN_TN_CAL_SPCK_TC_Subset_dB_LSMask.tif\n",
      "[Warning] Dimension mismatch (data vs landmask) for file: /mnt/raid01/SAR/Sentinel-1/Arctic/ScottTrough/asdf/snap_big/S1A_EW_GRDM_1SDH_20170802T115433_20170802T115533_017744_01DB8D_6377_BN_TN_CAL_SPCK_TC_Subset_dB_LSMask.tif"
     ]
    },
    {
     "name": "stderr",
     "output_type": "stream",
     "text": [
      "Converting:   0%|          | 6/1792 [00:00<02:22, 12.57it/s]"
     ]
    },
    {
     "name": "stdout",
     "output_type": "stream",
     "text": [
      "\n",
      "[Warning] Dimension mismatch (data vs landmask) for file: /mnt/raid01/SAR/Sentinel-1/Arctic/ScottTrough/asdf/snap_big/S1B_EW_GRDM_1SDH_20171225T212833_20171225T212924_008881_00FD48_CA9E_BN_TN_CAL_SPCK_TC_Subset_dB_LSMask.tif\n",
      "[Warning] Dimension mismatch (data vs landmask) for file: /mnt/raid01/SAR/Sentinel-1/Arctic/ScottTrough/asdf/snap_big/S1A_EW_GRDM_1SDH_20170826T115434_20170826T115534_018094_01E62B_B72C_BN_TN_CAL_SPCK_TC_Subset_dB_LSMask.tif\n",
      "[Warning] Dimension mismatch (data vs landmask) for file: /mnt/raid01/SAR/Sentinel-1/Arctic/ScottTrough/asdf/snap_big/S1A_EW_GRDM_1SDH_20170510T115428_20170510T115528_016519_01B611_D8DE_BN_TN_CAL_SPCK_TC_Subset_dB_LSMask.tif\n",
      "[Warning] Dimension mismatch (data vs landmask) for file: /mnt/raid01/SAR/Sentinel-1/Arctic/ScottTrough/asdf/snap_big/S1B_EW_GRDM_1SDH_20180106T212833_20180106T212923_009056_0102FA_9C60_BN_TN_CAL_SPCK_TC_Subset_dB_LSMask.tif\n",
      "[Warning] Dimension mismatch (data vs landmask) for file: /mnt/raid01/SAR/Sentinel-1/Arctic/ScottTrough/asdf/snap_big/S1A_EW_GRDM_1SDH_20170907T115435_20170907T115535_018269_01EB7B_0864_BN_TN_CAL_SPCK_TC_Subset_dB_LSMask.tif\n"
     ]
    },
    {
     "name": "stderr",
     "output_type": "stream",
     "text": [
      "Converting:   1%|          | 12/1792 [00:00<01:12, 24.61it/s]"
     ]
    },
    {
     "name": "stdout",
     "output_type": "stream",
     "text": [
      "[Warning] Dimension mismatch (data vs landmask) for file: /mnt/raid01/SAR/Sentinel-1/Arctic/ScottTrough/asdf/snap_big/S1A_EW_GRDM_1SDH_20180529T115436_20180529T115536_022119_026437_5DDA_BN_TN_CAL_SPCK_TC_Subset_dB_LSMask.tif\n",
      "[Warning] Dimension mismatch (data vs landmask) for file: /mnt/raid01/SAR/Sentinel-1/Arctic/ScottTrough/asdf/snap_big/S1A_EW_GRDM_1SDH_20180610T115436_20180610T115536_022294_0269AE_22FA_BN_TN_CAL_SPCK_TC_Subset_dB_LSMask.tif\n",
      "[Warning] Dimension mismatch (data vs landmask) for file: /mnt/raid01/SAR/Sentinel-1/Arctic/ScottTrough/asdf/snap_big/S1A_EW_GRDM_1SDH_20170428T115428_20170428T115528_016344_01B0C7_3990_BN_TN_CAL_SPCK_TC_Subset_dB_LSMask.tif\n",
      "[Warning] Dimension mismatch (data vs landmask) for file: /mnt/raid01/SAR/Sentinel-1/Arctic/ScottTrough/asdf/snap_big/S1A_EW_GRDM_1SDH_20170919T115435_20170919T115535_018444_01F0E4_13F3_BN_TN_CAL_SPCK_TC_Subset_dB_LSMask.tif"
     ]
    },
    {
     "name": "stderr",
     "output_type": "stream",
     "text": [
      "Converting:   1%|          | 16/1792 [00:00<01:02, 28.57it/s]"
     ]
    },
    {
     "name": "stdout",
     "output_type": "stream",
     "text": [
      "\n",
      "[Warning] Dimension mismatch (data vs landmask) for file: /mnt/raid01/SAR/Sentinel-1/Arctic/ScottTrough/asdf/snap_big/S1A_EW_GRDM_1SDH_20180318T115433_20180318T115533_021069_024306_FE66_BN_TN_CAL_SPCK_TC_Subset_dB_LSMask.tif\n",
      "[Warning] Dimension mismatch (data vs landmask) for file: /mnt/raid01/SAR/Sentinel-1/Arctic/ScottTrough/asdf/snap_big/S1A_EW_GRDM_1SDH_20180411T115433_20180411T115533_021419_024E0E_C32E_BN_TN_CAL_SPCK_TC_Subset_dB_LSMask.tif\n",
      "[Warning] Dimension mismatch (data vs landmask) for file: /mnt/raid01/SAR/Sentinel-1/Arctic/ScottTrough/asdf/snap_big/S1A_EW_GRDM_1SDH_20200518T115448_20200518T115548_032619_03C72A_F17B_BN_TN_CAL_SPCK_TC_Subset_dB_LSMask.tif\n",
      "[Warning] Dimension mismatch (data vs landmask) for file: /mnt/raid01/SAR/Sentinel-1/Arctic/ScottTrough/asdf/snap_big/S1A_EW_GRDM_1SDH_20180622T115437_20180622T115537_022469_026EF7_ED6E_BN_TN_CAL_SPCK_TC_Subset_dB_LSMask.tif\n"
     ]
    },
    {
     "name": "stderr",
     "output_type": "stream",
     "text": [
      "Converting:   1%|          | 20/1792 [00:00<01:02, 28.46it/s]"
     ]
    },
    {
     "name": "stdout",
     "output_type": "stream",
     "text": [
      "[Warning] Dimension mismatch (data vs landmask) for file: /mnt/raid01/SAR/Sentinel-1/Arctic/ScottTrough/asdf/snap_big/S1A_EW_GRDM_1SDH_20170404T115427_20170404T115527_015994_01A61B_147E_BN_TN_CAL_SPCK_TC_Subset_dB_LSMask.tif\n",
      "[Warning] Dimension mismatch (data vs landmask) for file: /mnt/raid01/SAR/Sentinel-1/Arctic/ScottTrough/asdf/snap_big/S1A_EW_GRDM_1SDH_20170416T115427_20170416T115527_016169_01AB78_18FB_BN_TN_CAL_SPCK_TC_Subset_dB_LSMask.tif\n",
      "[Warning] Dimension mismatch (data vs landmask) for file: /mnt/raid01/SAR/Sentinel-1/Arctic/ScottTrough/asdf/snap_big/S1A_EW_GRDM_1SDH_20170615T115430_20170615T115530_017044_01C646_06AF_BN_TN_CAL_SPCK_TC_Subset_dB_LSMask.tif\n",
      "[Warning] Dimension mismatch (data vs landmask) for file: /mnt/raid01/SAR/Sentinel-1/Arctic/ScottTrough/asdf/snap_big/S1A_EW_GRDM_1SDH_20170814T115434_20170814T115534_017919_01E0DF_0412_BN_TN_CAL_SPCK_TC_Subset_dB_LSMask.tif\n"
     ]
    },
    {
     "name": "stderr",
     "output_type": "stream",
     "text": [
      "Converting:   1%|▏         | 24/1792 [00:01<01:02, 28.14it/s]"
     ]
    },
    {
     "name": "stdout",
     "output_type": "stream",
     "text": [
      "[Warning] Dimension mismatch (data vs landmask) for file: /mnt/raid01/SAR/Sentinel-1/Arctic/ScottTrough/asdf/snap_big/S1A_EW_GRDM_1SDH_20171106T115436_20171106T115536_019144_020653_041F_BN_TN_CAL_SPCK_TC_Subset_dB_LSMask.tif\n",
      "[Warning] Dimension mismatch (data vs landmask) for file: /mnt/raid01/SAR/Sentinel-1/Arctic/ScottTrough/asdf/snap_big/S1A_EW_GRDM_1SDH_20171118T115435_20171118T115535_019319_020BCB_77D2_BN_TN_CAL_SPCK_TC_Subset_dB_LSMask.tif\n",
      "[Warning] Dimension mismatch (data vs landmask) for file: /mnt/raid01/SAR/Sentinel-1/Arctic/ScottTrough/asdf/snap_big/S1A_EW_GRDM_1SDH_20170603T115430_20170603T115530_016869_01C0E0_6893_BN_TN_CAL_SPCK_TC_Subset_dB_LSMask.tif\n",
      "[Warning] Dimension mismatch (data vs landmask) for file: /mnt/raid01/SAR/Sentinel-1/Arctic/ScottTrough/asdf/snap_big/S1A_EW_GRDM_1SDH_20180306T115432_20180306T115532_020894_023D7E_D67C_BN_TN_CAL_SPCK_TC_Subset_dB_LSMask.tif\n"
     ]
    },
    {
     "name": "stderr",
     "output_type": "stream",
     "text": [
      "Converting:   2%|▏         | 28/1792 [00:01<01:02, 28.25it/s]"
     ]
    },
    {
     "name": "stdout",
     "output_type": "stream",
     "text": [
      "[Warning] Dimension mismatch (data vs landmask) for file: /mnt/raid01/SAR/Sentinel-1/Arctic/ScottTrough/asdf/snap_big/S1A_EW_GRDM_1SDH_20171025T115436_20171025T115536_018969_0200EA_500A_BN_TN_CAL_SPCK_TC_Subset_dB_LSMask.tif\n",
      "[Warning] Dimension mismatch (data vs landmask) for file: /mnt/raid01/SAR/Sentinel-1/Arctic/ScottTrough/asdf/snap_big/S1A_EW_GRDM_1SDH_20171013T115436_20171013T115536_018794_01FB9B_8FB1_BN_TN_CAL_SPCK_TC_Subset_dB_LSMask.tif\n",
      "[Warning] Dimension mismatch (data vs landmask) for file: /mnt/raid01/SAR/Sentinel-1/Arctic/ScottTrough/asdf/snap_big/S1A_EW_GRDM_1SDH_20171130T115435_20171130T115535_019494_021144_91A7_BN_TN_CAL_SPCK_TC_Subset_dB_LSMask.tif\n",
      "[Warning] Dimension mismatch (data vs landmask) for file: /mnt/raid01/SAR/Sentinel-1/Arctic/ScottTrough/asdf/snap_big/S1A_EW_GRDM_1SDH_20171212T115435_20171212T115535_019669_0216C2_32DB_BN_TN_CAL_SPCK_TC_Subset_dB_LSMask.tif\n"
     ]
    },
    {
     "name": "stderr",
     "output_type": "stream",
     "text": [
      "Converting:   2%|▏         | 32/1792 [00:01<01:16, 23.07it/s]"
     ]
    },
    {
     "name": "stdout",
     "output_type": "stream",
     "text": [
      "[Warning] Dimension mismatch (data vs landmask) for file: /mnt/raid01/SAR/Sentinel-1/Arctic/ScottTrough/asdf/snap_big/S1A_EW_GRDM_1SDH_20171224T115434_20171224T115534_019844_021C22_34B4_BN_TN_CAL_SPCK_TC_Subset_dB_LSMask.tif\n",
      "[Warning] Dimension mismatch (data vs landmask) for file: /mnt/raid01/SAR/Sentinel-1/Arctic/ScottTrough/asdf/snap_big/S1A_EW_GRDM_1SDH_20190406T115439_20190406T115539_026669_02FE29_98CF_BN_TN_CAL_SPCK_TC_Subset_dB_LSMask.tif\n",
      "[Warning] Dimension mismatch (data vs landmask) for file: /mnt/raid01/SAR/Sentinel-1/Arctic/ScottTrough/asdf/snap_big/S1A_EW_GRDM_1SDH_20180222T115432_20180222T115532_020719_0237F7_3AAE_BN_TN_CAL_SPCK_TC_Subset_dB_LSMask.tif\n",
      "[Warning] Dimension mismatch (data vs landmask) for file: /mnt/raid01/SAR/Sentinel-1/Arctic/ScottTrough/asdf/snap_big/S1A_EW_GRDM_1SDH_20200903T115454_20200903T115554_034194_03F8EE_512A_BN_TN_CAL_SPCK_TC_Subset_dB_LSMask.tif\n"
     ]
    },
    {
     "name": "stderr",
     "output_type": "stream",
     "text": [
      "Converting:   2%|▏         | 36/1792 [00:01<01:08, 25.71it/s]"
     ]
    },
    {
     "name": "stdout",
     "output_type": "stream",
     "text": [
      "[Warning] Dimension mismatch (data vs landmask) for file: /mnt/raid01/SAR/Sentinel-1/Arctic/ScottTrough/asdf/snap_big/S1A_EW_GRDM_1SDH_20190816T115447_20190816T115547_028594_033BFA_5AFE_BN_TN_CAL_SPCK_TC_Subset_dB_LSMask.tif\n",
      "[Warning] Dimension mismatch (data vs landmask) for file: /mnt/raid01/SAR/Sentinel-1/Arctic/ScottTrough/asdf/snap_big/S1A_EW_GRDM_1SDH_20210712T115457_20210712T115557_038744_049265_612B_BN_TN_CAL_SPCK_TC_Subset_dB_LSMask.tif\n",
      "[Warning] Dimension mismatch (data vs landmask) for file: /mnt/raid01/SAR/Sentinel-1/Arctic/ScottTrough/asdf/snap_big/S1A_EW_GRDM_1SDH_20190617T115443_20190617T115543_027719_0320F8_046D_BN_TN_CAL_SPCK_TC_Subset_dB_LSMask.tif\n"
     ]
    },
    {
     "name": "stderr",
     "output_type": "stream",
     "text": [
      "Converting:   2%|▏         | 39/1792 [00:01<01:13, 23.97it/s]"
     ]
    },
    {
     "name": "stdout",
     "output_type": "stream",
     "text": [
      "[Warning] Dimension mismatch (data vs landmask) for file: /mnt/raid01/SAR/Sentinel-1/Arctic/ScottTrough/asdf/snap_big/S1A_EW_GRDM_1SDH_20180809T115440_20180809T115540_023169_02845C_354C_BN_TN_CAL_SPCK_TC_Subset_dB_LSMask.tif\n",
      "[Warning] Dimension mismatch (data vs landmask) for file: /mnt/raid01/SAR/Sentinel-1/Arctic/ScottTrough/asdf/snap_big/S1A_EW_GRDM_1SDH_20190430T115440_20190430T115540_027019_030ADD_320E_BN_TN_CAL_SPCK_TC_Subset_dB_LSMask.tif\n",
      "[Warning] Dimension mismatch (data vs landmask) for file: /mnt/raid01/SAR/Sentinel-1/Arctic/ScottTrough/asdf/snap_big/S1A_EW_GRDM_1SDH_20180926T115442_20180926T115542_023869_029ADD_CD71_BN_TN_CAL_SPCK_TC_Subset_dB_LSMask.tif\n",
      "[Warning] Dimension mismatch (data vs landmask) for file: /mnt/raid01/SAR/Sentinel-1/Arctic/ScottTrough/asdf/snap_big/S1A_EW_GRDM_1SDH_20180517T115435_20180517T115535_021944_025E97_DE5F_BN_TN_CAL_SPCK_TC_Subset_dB_LSMask.tif\n"
     ]
    },
    {
     "name": "stderr",
     "output_type": "stream",
     "text": [
      "Converting:   2%|▏         | 42/1792 [00:02<01:42, 17.07it/s]"
     ]
    },
    {
     "name": "stdout",
     "output_type": "stream",
     "text": [
      "[Warning] Dimension mismatch (data vs landmask) for file: /mnt/raid01/SAR/Sentinel-1/Arctic/ScottTrough/asdf/snap_big/S1A_EW_GRDM_1SDH_20190828T115447_20190828T115547_028769_03421A_D40F_BN_TN_CAL_SPCK_TC_Subset_dB_LSMask.tif\n",
      "[Warning] Dimension mismatch (data vs landmask) for file: /mnt/raid01/SAR/Sentinel-1/Arctic/ScottTrough/asdf/snap_big/S1A_EW_GRDM_1SDH_20200729T115452_20200729T115552_033669_03E6F7_B973_BN_TN_CAL_SPCK_TC_Subset_dB_LSMask.tif\n",
      "[Warning] Dimension mismatch (data vs landmask) for file: /mnt/raid01/SAR/Sentinel-1/Arctic/ScottTrough/asdf/snap_big/S1A_EW_GRDM_1SDH_20190629T115443_20190629T115543_027894_032633_E60F_BN_TN_CAL_SPCK_TC_Subset_dB_LSMask.tif\n",
      "[Warning] Dimension mismatch (data vs landmask) for file: /mnt/raid01/SAR/Sentinel-1/Arctic/ScottTrough/asdf/snap_big/S1A_EW_GRDM_1SDH_20200717T115451_20200717T115551_033494_03E198_B874_BN_TN_CAL_SPCK_TC_Subset_dB_LSMask.tif[Warning] Dimension mismatch (data vs landmask) for file: /mnt/raid01/SAR/Sentinel-1/Arctic/ScottTrough/asdf/snap_big/S1A_EW_GRDM_1SDH_20200822T115453_20200822T115553_034019_03F2CA_535A_BN_TN_CAL_SPCK_TC_Subset_dB_LSMask.tif\n",
      "\n",
      "[Warning] Dimension mismatch (data vs landmask) for file: /mnt/raid01/SAR/Sentinel-1/Arctic/ScottTrough/asdf/snap_big/S1A_EW_GRDM_1SDH_20210326T115451_20210326T115551_037169_04606E_DA20_BN_TN_CAL_SPCK_TC_Subset_dB_LSMask.tif\n",
      "[Warning] Dimension mismatch (data vs landmask) for file: /mnt/raid01/SAR/Sentinel-1/Arctic/ScottTrough/asdf/snap_big/S1A_EW_GRDM_1SDH_20210724T115458_20210724T115558_038919_0497A0_EA41_BN_TN_CAL_SPCK_TC_Subset_dB_LSMask.tif\n"
     ]
    },
    {
     "name": "stderr",
     "output_type": "stream",
     "text": [
      "Converting:   3%|▎         | 50/1792 [00:02<01:32, 18.81it/s]"
     ]
    },
    {
     "name": "stdout",
     "output_type": "stream",
     "text": [
      "[Warning] Dimension mismatch (data vs landmask) for file: /mnt/raid01/SAR/Sentinel-1/Arctic/ScottTrough/asdf/snap_big/S1A_EW_GRDM_1SDH_20210805T115458_20210805T115558_039094_049CEE_968A_BN_TN_CAL_SPCK_TC_Subset_dB_LSMask.tif\n",
      "[Warning] Dimension mismatch (data vs landmask) for file: /mnt/raid01/SAR/Sentinel-1/Arctic/ScottTrough/asdf/snap_big/S1A_EW_GRDM_1SDH_20210407T115452_20210407T115552_037344_04667E_A334_BN_TN_CAL_SPCK_TC_Subset_dB_LSMask.tif\n",
      "[Warning] Dimension mismatch (data vs landmask) for file: /mnt/raid01/SAR/Sentinel-1/Arctic/ScottTrough/asdf/snap_big/S1A_EW_GRDM_1SDH_20210314T115451_20210314T115551_036994_045A65_8D76_BN_TN_CAL_SPCK_TC_Subset_dB_LSMask.tif\n"
     ]
    },
    {
     "name": "stderr",
     "output_type": "stream",
     "text": [
      "Converting:   3%|▎         | 53/1792 [00:02<01:52, 15.50it/s]"
     ]
    },
    {
     "name": "stdout",
     "output_type": "stream",
     "text": [
      "[Warning] Dimension mismatch (data vs landmask) for file: /mnt/raid01/SAR/Sentinel-1/Arctic/ScottTrough/asdf/snap_big/S1A_EW_GRDM_1SDH_20180505T115434_20180505T115534_021769_025909_CDA6_BN_TN_CAL_SPCK_TC_Subset_dB_LSMask.tif\n",
      "[Warning] Dimension mismatch (data vs landmask) for file: /mnt/raid01/SAR/Sentinel-1/Arctic/ScottTrough/asdf/snap_big/S1A_EW_GRDM_1SDH_20210817T115459_20210817T115559_039269_04A2FE_7076_BN_TN_CAL_SPCK_TC_Subset_dB_LSMask.tif\n"
     ]
    },
    {
     "name": "stderr",
     "output_type": "stream",
     "text": [
      "Converting:   3%|▎         | 55/1792 [00:03<02:09, 13.44it/s]"
     ]
    },
    {
     "name": "stdout",
     "output_type": "stream",
     "text": [
      "[Warning] Dimension mismatch (data vs landmask) for file: /mnt/raid01/SAR/Sentinel-1/Arctic/ScottTrough/asdf/snap_big/S1A_EW_GRDM_1SDH_20180914T115442_20180914T115542_023694_02952F_AFFA_BN_TN_CAL_SPCK_TC_Subset_dB_LSMask.tif\n",
      "[Warning] Dimension mismatch (data vs landmask) for file: /mnt/raid01/SAR/Sentinel-1/Arctic/ScottTrough/asdf/snap_big/S1A_EW_GRDM_1SDH_20200915T115454_20200915T115554_034369_03FF1D_CD35_BN_TN_CAL_SPCK_TC_Subset_dB_LSMask.tif\n",
      "[Warning] Dimension mismatch (data vs landmask) for file: /mnt/raid01/SAR/Sentinel-1/Arctic/ScottTrough/asdf/snap_big/S1A_EW_GRDM_1SDH_20200424T115446_20200424T115546_032269_03BBB2_8A40_BN_TN_CAL_SPCK_TC_Subset_dB_LSMask.tif\n",
      "[Warning] Dimension mismatch (data vs landmask) for file: /mnt/raid01/SAR/Sentinel-1/Arctic/ScottTrough/asdf/snap_big/S1A_EW_GRDM_1SDH_20210501T115453_20210501T115553_037694_04729B_F9FF_BN_TN_CAL_SPCK_TC_Subset_dB_LSMask.tif[Warning] Dimension mismatch (data vs landmask) for file: /mnt/raid01/SAR/Sentinel-1/Arctic/ScottTrough/asdf/snap_big/S1A_EW_GRDM_1SDH_20210630T115456_20210630T115556_038569_048D1C_9DC0_BN_TN_CAL_SPCK_TC_Subset_dB_LSMask.tif\n",
      "\n",
      "[Warning] Dimension mismatch (data vs landmask) for file: /mnt/raid01/SAR/Sentinel-1/Arctic/ScottTrough/asdf/snap_big/S1A_EW_GRDM_1SDH_20210910T115500_20210910T115600_039619_04AF03_F48A_BN_TN_CAL_SPCK_TC_Subset_dB_LSMask.tif\n",
      "[Warning] Dimension mismatch (data vs landmask) for file: /mnt/raid01/SAR/Sentinel-1/Arctic/ScottTrough/asdf/snap_big/S1A_EW_GRDM_1SDH_20200307T115445_20200307T115545_031569_03A31E_64C7_BN_TN_CAL_SPCK_TC_Subset_dB_LSMask.tif\n",
      "[Warning] Dimension mismatch (data vs landmask) for file: /mnt/raid01/SAR/Sentinel-1/Arctic/ScottTrough/asdf/snap_big/S1A_EW_GRDM_1SDH_20200319T115445_20200319T115545_031744_03A93A_2D9F_BN_TN_CAL_SPCK_TC_Subset_dB_LSMask.tif\n"
     ]
    },
    {
     "name": "stderr",
     "output_type": "stream",
     "text": [
      "Converting:   4%|▎         | 63/1792 [00:03<01:20, 21.53it/s]"
     ]
    },
    {
     "name": "stdout",
     "output_type": "stream",
     "text": [
      "[Warning] Dimension mismatch (data vs landmask) for file: /mnt/raid01/SAR/Sentinel-1/Arctic/ScottTrough/asdf/snap_big/S1A_EW_GRDM_1SDH_20200331T115446_20200331T115546_031919_03AF63_73AF_BN_TN_CAL_SPCK_TC_Subset_dB_LSMask.tif\n",
      "[Warning] Dimension mismatch (data vs landmask) for file: /mnt/raid01/SAR/Sentinel-1/Arctic/ScottTrough/asdf/snap_big/S1A_EW_GRDM_1SDH_20180821T115441_20180821T115541_023344_028A03_3079_BN_TN_CAL_SPCK_TC_Subset_dB_LSMask.tif\n",
      "[Warning] Dimension mismatch (data vs landmask) for file: /mnt/raid01/SAR/Sentinel-1/Arctic/ScottTrough/asdf/snap_big/S1A_EW_GRDM_1SDH_20200810T115453_20200810T115553_033844_03ECA0_EB11_BN_TN_CAL_SPCK_TC_Subset_dB_LSMask.tif[Warning] Dimension mismatch (data vs landmask) for file: /mnt/raid01/SAR/Sentinel-1/Arctic/ScottTrough/asdf/snap_big/S1A_EW_GRDM_1SDH_20180902T115441_20180902T115541_023519_028F92_CE78_BN_TN_CAL_SPCK_TC_Subset_dB_LSMask.tif\n",
      "\n",
      "[Warning] Dimension mismatch (data vs landmask) for file: /mnt/raid01/SAR/Sentinel-1/Arctic/ScottTrough/asdf/snap_big/S1A_EW_GRDM_1SDH_20210606T115455_20210606T115555_038219_0482AC_F4BB_BN_TN_CAL_SPCK_TC_Subset_dB_LSMask.tif\n",
      "[Warning] Dimension mismatch (data vs landmask) for file: /mnt/raid01/SAR/Sentinel-1/Arctic/ScottTrough/asdf/snap_big/S1A_EW_GRDM_1SDH_20210618T115455_20210618T115555_038394_0487DF_192B_BN_TN_CAL_SPCK_TC_Subset_dB_LSMask.tif\n"
     ]
    },
    {
     "name": "stderr",
     "output_type": "stream",
     "text": [
      "Converting:   4%|▍         | 68/1792 [00:03<01:12, 23.75it/s]"
     ]
    },
    {
     "name": "stdout",
     "output_type": "stream",
     "text": [
      "[Warning] Dimension mismatch (data vs landmask) for file: /mnt/raid01/SAR/Sentinel-1/Arctic/ScottTrough/asdf/snap_big/S1A_EW_GRDM_1SDH_20210922T115500_20210922T115600_039794_04B4EE_24CB_BN_TN_CAL_SPCK_TC_Subset_dB_LSMask.tif\n",
      "[Warning] Dimension mismatch (data vs landmask) for file: /mnt/raid01/SAR/Sentinel-1/Arctic/ScottTrough/asdf/snap_big/S1A_EW_GRDM_1SDH_20181008T115442_20181008T115542_024044_02A09E_1AA7_BN_TN_CAL_SPCK_TC_Subset_dB_LSMask.tif\n",
      "[Warning] Dimension mismatch (data vs landmask) for file: /mnt/raid01/SAR/Sentinel-1/Arctic/ScottTrough/asdf/snap_big/S1A_EW_GRDM_1SDH_20200412T115446_20200412T115546_032094_03B590_32C1_BN_TN_CAL_SPCK_TC_Subset_dB_LSMask.tif\n",
      "[Warning] Dimension mismatch (data vs landmask) for file: /mnt/raid01/SAR/Sentinel-1/Arctic/ScottTrough/asdf/snap_big/S1A_EW_GRDM_1SDH_20190325T115439_20190325T115539_026494_02F7B2_D754_BN_TN_CAL_SPCK_TC_Subset_dB_LSMask.tif\n"
     ]
    },
    {
     "name": "stderr",
     "output_type": "stream",
     "text": [
      "Converting:   4%|▍         | 72/1792 [00:03<01:10, 24.41it/s]"
     ]
    },
    {
     "name": "stdout",
     "output_type": "stream",
     "text": [
      "[Warning] Dimension mismatch (data vs landmask) for file: /mnt/raid01/SAR/Sentinel-1/Arctic/ScottTrough/asdf/snap_big/S1A_EW_GRDM_1SDH_20190909T115448_20190909T115548_028944_034830_1454_BN_TN_CAL_SPCK_TC_Subset_dB_LSMask.tif\n",
      "[Warning] Dimension mismatch (data vs landmask) for file: /mnt/raid01/SAR/Sentinel-1/Arctic/ScottTrough/asdf/snap_big/S1A_EW_GRDM_1SDH_20210419T115452_20210419T115552_037519_046C89_1FDB_BN_TN_CAL_SPCK_TC_Subset_dB_LSMask.tif\n",
      "[Warning] Dimension mismatch (data vs landmask) for file: /mnt/raid01/SAR/Sentinel-1/Arctic/ScottTrough/asdf/snap_big/S1A_EW_GRDM_1SDH_20210829T115459_20210829T115559_039444_04A8F1_0F75_BN_TN_CAL_SPCK_TC_Subset_dB_LSMask.tif\n"
     ]
    },
    {
     "name": "stderr",
     "output_type": "stream",
     "text": [
      "Converting:   4%|▍         | 76/1792 [00:03<01:05, 26.37it/s]"
     ]
    },
    {
     "name": "stdout",
     "output_type": "stream",
     "text": [
      "[Warning] Dimension mismatch (data vs landmask) for file: /mnt/raid01/SAR/Sentinel-1/Arctic/ScottTrough/asdf/snap_big/S1A_EW_GRDM_1SDH_20211004T115501_20211004T115601_039969_04BB06_0E68_BN_TN_CAL_SPCK_TC_Subset_dB_LSMask.tif\n",
      "[Warning] Dimension mismatch (data vs landmask) for file: /mnt/raid01/SAR/Sentinel-1/Arctic/ScottTrough/asdf/snap_big/S1A_EW_GRDM_1SDH_20170323T115426_20170323T115526_015819_01A0EA_A5AD_BN_TN_CAL_SPCK_TC_Subset_dB_LSMask.tif\n",
      "[Warning] Dimension mismatch (data vs landmask) for file: /mnt/raid01/SAR/Sentinel-1/Arctic/ScottTrough/asdf/snap_big/S1A_EW_GRDM_1SDH_20190921T115448_20190921T115548_029119_034E2B_12C8_BN_TN_CAL_SPCK_TC_Subset_dB_LSMask.tif\n"
     ]
    },
    {
     "name": "stderr",
     "output_type": "stream",
     "text": [
      "Converting:   4%|▍         | 79/1792 [00:03<01:06, 25.65it/s]"
     ]
    },
    {
     "name": "stdout",
     "output_type": "stream",
     "text": [
      "[Warning] Dimension mismatch (data vs landmask) for file: /mnt/raid01/SAR/Sentinel-1/Arctic/ScottTrough/asdf/snap_big/S1A_EW_GRDM_1SDH_20191015T115449_20191015T115549_029469_035A3D_1AD4_BN_TN_CAL_SPCK_TC_Subset_dB_LSMask.tif\n",
      "[Warning] Dimension mismatch (data vs landmask) for file: /mnt/raid01/SAR/Sentinel-1/Arctic/ScottTrough/asdf/snap_big/S1A_EW_GRDM_1SDH_20180423T115434_20180423T115534_021594_025381_FEAC_BN_TN_CAL_SPCK_TC_Subset_dB_LSMask.tif\n",
      "[Warning] Dimension mismatch (data vs landmask) for file: /mnt/raid01/SAR/Sentinel-1/Arctic/ScottTrough/asdf/snap_big/S1A_EW_GRDM_1SDH_20180117T115433_20180117T115533_020194_02273B_4357_BN_TN_CAL_SPCK_TC_Subset_dB_LSMask.tif\n"
     ]
    },
    {
     "name": "stderr",
     "output_type": "stream",
     "text": [
      "Converting:   5%|▍         | 82/1792 [00:03<01:11, 23.80it/s]"
     ]
    },
    {
     "name": "stdout",
     "output_type": "stream",
     "text": [
      "[Warning] Dimension mismatch (data vs landmask) for file: /mnt/raid01/SAR/Sentinel-1/Arctic/ScottTrough/asdf/snap_big/S1A_EW_GRDM_1SDH_20190217T115439_20190217T115539_025969_02E49A_F182_BN_TN_CAL_SPCK_TC_Subset_dB_LSMask.tif\n",
      "[Warning] Dimension mismatch (data vs landmask) for file: /mnt/raid01/SAR/Sentinel-1/Arctic/ScottTrough/asdf/snap_big/S1A_EW_GRDM_1SDH_20190301T115439_20190301T115539_026144_02EADF_696D_BN_TN_CAL_SPCK_TC_Subset_dB_LSMask.tif\n",
      "[Warning] Dimension mismatch (data vs landmask) for file: /mnt/raid01/SAR/Sentinel-1/Arctic/ScottTrough/asdf/snap_big/S1A_EW_GRDM_1SDH_20190512T115441_20190512T115541_027194_0310CE_EE1C_BN_TN_CAL_SPCK_TC_Subset_dB_LSMask.tif\n",
      "[Warning] Dimension mismatch (data vs landmask) for file: /mnt/raid01/SAR/Sentinel-1/Arctic/ScottTrough/asdf/snap_big/S1A_EW_GRDM_1SDH_20191027T115449_20191027T115549_029644_03603E_7194_BN_TN_CAL_SPCK_TC_Subset_dB_LSMask.tif\n"
     ]
    },
    {
     "name": "stderr",
     "output_type": "stream",
     "text": [
      "Converting:   5%|▍         | 86/1792 [00:04<01:05, 26.10it/s]"
     ]
    },
    {
     "name": "stdout",
     "output_type": "stream",
     "text": [
      "[Warning] Dimension mismatch (data vs landmask) for file: /mnt/raid01/SAR/Sentinel-1/Arctic/ScottTrough/asdf/snap_big/S1A_EW_GRDM_1SDH_20200224T115445_20200224T115545_031394_039D12_AB85_BN_TN_CAL_SPCK_TC_Subset_dB_LSMask.tif\n",
      "[Warning] Dimension mismatch (data vs landmask) for file: /mnt/raid01/SAR/Sentinel-1/Arctic/ScottTrough/asdf/snap_big/S1A_EW_GRDM_1SDH_20200927T115455_20200927T115555_034544_04054A_7BEF_BN_TN_CAL_SPCK_TC_Subset_dB_LSMask.tif\n",
      "[Warning] Dimension mismatch (data vs landmask) for file: /mnt/raid01/SAR/Sentinel-1/Arctic/ScottTrough/asdf/snap_big/S1A_EW_GRDM_1SDH_20201102T115455_20201102T115555_035069_04177E_82DD_BN_TN_CAL_SPCK_TC_Subset_dB_LSMask.tif\n"
     ]
    },
    {
     "name": "stderr",
     "output_type": "stream",
     "text": [
      "Converting:   5%|▍         | 89/1792 [00:04<01:07, 25.27it/s]"
     ]
    },
    {
     "name": "stdout",
     "output_type": "stream",
     "text": [
      "[Warning] Dimension mismatch (data vs landmask) for file: /mnt/raid01/SAR/Sentinel-1/Arctic/ScottTrough/asdf/snap_big/S1A_EW_GRDM_1SDH_20211121T115500_20211121T115600_040669_04D34D_0F29_BN_TN_CAL_SPCK_TC_Subset_dB_LSMask.tif\n",
      "[Warning] Dimension mismatch (data vs landmask) for file: /mnt/raid01/SAR/Sentinel-1/Arctic/ScottTrough/asdf/snap_big/S1A_EW_GRDM_1SDH_20180129T115433_20180129T115533_020369_022CC7_0192_BN_TN_CAL_SPCK_TC_Subset_dB_LSMask.tif\n",
      "[Warning] Dimension mismatch (data vs landmask) for file: /mnt/raid01/SAR/Sentinel-1/Arctic/ScottTrough/asdf/snap_big/S1A_EW_GRDM_1SDH_20181125T115442_20181125T115542_024744_02B8DD_8F37_BN_TN_CAL_SPCK_TC_Subset_dB_LSMask.tif\n"
     ]
    },
    {
     "name": "stderr",
     "output_type": "stream",
     "text": [
      "Converting:   5%|▌         | 92/1792 [00:04<01:08, 24.87it/s]"
     ]
    },
    {
     "name": "stdout",
     "output_type": "stream",
     "text": [
      "[Warning] Dimension mismatch (data vs landmask) for file: /mnt/raid01/SAR/Sentinel-1/Arctic/ScottTrough/asdf/snap_big/S1A_EW_GRDM_1SDH_20201114T115455_20201114T115555_035244_041DA1_7374_BN_TN_CAL_SPCK_TC_Subset_dB_LSMask.tif\n",
      "[Warning] Dimension mismatch (data vs landmask) for file: /mnt/raid01/SAR/Sentinel-1/Arctic/ScottTrough/asdf/snap_big/S1A_EW_GRDM_1SDH_20181020T115442_20181020T115542_024219_02A64F_C1DE_BN_TN_CAL_SPCK_TC_Subset_dB_LSMask.tif\n",
      "[Warning] Dimension mismatch (data vs landmask) for file: /mnt/raid01/SAR/Sentinel-1/Arctic/ScottTrough/asdf/snap_big/S1A_EW_GRDM_1SDH_20181207T115441_20181207T115541_024919_02BEB7_BDDF_BN_TN_CAL_SPCK_TC_Subset_dB_LSMask.tif\n",
      "[Warning] Dimension mismatch (data vs landmask) for file: /mnt/raid01/SAR/Sentinel-1/Arctic/ScottTrough/asdf/snap_big/S1A_EW_GRDM_1SDH_20190124T115440_20190124T115540_025619_02D80F_7B44_BN_TN_CAL_SPCK_TC_Subset_dB_LSMask.tif"
     ]
    },
    {
     "name": "stderr",
     "output_type": "stream",
     "text": [
      "Converting:   5%|▌         | 95/1792 [00:04<01:12, 23.40it/s]"
     ]
    },
    {
     "name": "stdout",
     "output_type": "stream",
     "text": [
      "\n",
      "[Warning] Dimension mismatch (data vs landmask) for file: /mnt/raid01/SAR/Sentinel-1/Arctic/ScottTrough/asdf/snap_big/S1A_EW_GRDM_1SDH_20190205T115439_20190205T115539_025794_02DE65_1A80_BN_TN_CAL_SPCK_TC_Subset_dB_LSMask.tif\n",
      "[Warning] Dimension mismatch (data vs landmask) for file: /mnt/raid01/SAR/Sentinel-1/Arctic/ScottTrough/asdf/snap_big/S1A_EW_GRDM_1SDH_20190313T115439_20190313T115539_026319_02F13D_C729_BN_TN_CAL_SPCK_TC_Subset_dB_LSMask.tif\n",
      "[Warning] Dimension mismatch (data vs landmask) for file: /mnt/raid01/SAR/Sentinel-1/Arctic/ScottTrough/asdf/snap_big/S1A_EW_GRDM_1SDH_20191226T115447_20191226T115547_030519_037EA3_E62D_BN_TN_CAL_SPCK_TC_Subset_dB_LSMask.tif\n",
      "[Warning] Dimension mismatch (data vs landmask) for file: /mnt/raid01/SAR/Sentinel-1/Arctic/ScottTrough/asdf/snap_big/S1A_EW_GRDM_1SDH_20210101T115453_20210101T115553_035944_0435CB_4D85_BN_TN_CAL_SPCK_TC_Subset_dB_LSMask.tif\n"
     ]
    },
    {
     "name": "stderr",
     "output_type": "stream",
     "text": [
      "Converting:   6%|▌         | 100/1792 [00:04<01:01, 27.53it/s]"
     ]
    },
    {
     "name": "stdout",
     "output_type": "stream",
     "text": [
      "[Warning] Dimension mismatch (data vs landmask) for file: /mnt/raid01/SAR/Sentinel-1/Arctic/ScottTrough/asdf/snap_big/S1A_EW_GRDM_1SDH_20210113T115452_20210113T115552_036119_043BFC_3EBA_BN_TN_CAL_SPCK_TC_Subset_dB_LSMask.tif\n",
      "[Warning] Dimension mismatch (data vs landmask) for file: /mnt/raid01/SAR/Sentinel-1/Arctic/ScottTrough/asdf/snap_big/S1A_EW_GRDM_1SDH_20210302T115451_20210302T115551_036819_045443_D6A4_BN_TN_CAL_SPCK_TC_Subset_dB_LSMask.tif\n",
      "[Warning] Dimension mismatch (data vs landmask) for file: /mnt/raid01/SAR/Sentinel-1/Arctic/ScottTrough/asdf/snap_big/S1A_EW_GRDM_1SDH_20211016T115501_20211016T115601_040144_04C112_A7C3_BN_TN_CAL_SPCK_TC_Subset_dB_LSMask.tif\n"
     ]
    },
    {
     "name": "stderr",
     "output_type": "stream",
     "text": [
      "Converting:   6%|▌         | 103/1792 [00:04<01:00, 27.95it/s]"
     ]
    },
    {
     "name": "stdout",
     "output_type": "stream",
     "text": [
      "[Warning] Dimension mismatch (data vs landmask) for file: /mnt/raid01/SAR/Sentinel-1/Arctic/ScottTrough/asdf/snap_big/S1A_EW_GRDM_1SDH_20211203T115500_20211203T115600_040844_04D967_E299_BN_TN_CAL_SPCK_TC_Subset_dB_LSMask.tif\n",
      "[Warning] Dimension mismatch (data vs landmask) for file: /mnt/raid01/SAR/Sentinel-1/Arctic/ScottTrough/asdf/snap_big/S1A_EW_GRDM_1SDH_20181113T115442_20181113T115542_024569_02B26C_18BD_BN_TN_CAL_SPCK_TC_Subset_dB_LSMask.tif\n",
      "[Warning] Dimension mismatch (data vs landmask) for file: /mnt/raid01/SAR/Sentinel-1/Arctic/ScottTrough/asdf/snap_big/S1A_EW_GRDM_1SDH_20191108T115449_20191108T115549_029819_036673_7F11_BN_TN_CAL_SPCK_TC_Subset_dB_LSMask.tif\n"
     ]
    },
    {
     "name": "stderr",
     "output_type": "stream",
     "text": [
      "Converting:   6%|▌         | 106/1792 [00:04<01:05, 25.82it/s]"
     ]
    },
    {
     "name": "stdout",
     "output_type": "stream",
     "text": [
      "[Warning] Dimension mismatch (data vs landmask) for file: /mnt/raid01/SAR/Sentinel-1/Arctic/ScottTrough/asdf/snap_big/S1A_EW_GRDM_1SDH_20191214T115448_20191214T115548_030344_03789B_2CF2_BN_TN_CAL_SPCK_TC_Subset_dB_LSMask.tif\n",
      "[Warning] Dimension mismatch (data vs landmask) for file: /mnt/raid01/SAR/Sentinel-1/Arctic/ScottTrough/asdf/snap_big/S1A_EW_GRDM_1SDH_20200212T115445_20200212T115545_031219_03970C_F45A_BN_TN_CAL_SPCK_TC_Subset_dB_LSMask.tif\n",
      "[Warning] Dimension mismatch (data vs landmask) for file: /mnt/raid01/SAR/Sentinel-1/Arctic/ScottTrough/asdf/snap_big/S1A_EW_GRDM_1SDH_20201009T115455_20201009T115555_034719_040B67_5AE8_BN_TN_CAL_SPCK_TC_Subset_dB_LSMask.tif\n",
      "[Warning] Dimension mismatch (data vs landmask) for file: /mnt/raid01/SAR/Sentinel-1/Arctic/ScottTrough/asdf/snap_big/S1A_EW_GRDM_1SDH_20210125T115452_20210125T115552_036294_04420B_C532_BN_TN_CAL_SPCK_TC_Subset_dB_LSMask.tif"
     ]
    },
    {
     "name": "stderr",
     "output_type": "stream",
     "text": [
      "Converting:   6%|▌         | 109/1792 [00:04<01:03, 26.48it/s]"
     ]
    },
    {
     "name": "stdout",
     "output_type": "stream",
     "text": [
      "\n",
      "[Warning] Dimension mismatch (data vs landmask) for file: /mnt/raid01/SAR/Sentinel-1/Arctic/ScottTrough/asdf/snap_big/S1A_EW_GRDM_1SDH_20180105T115433_20180105T115533_020019_0221A8_AAAA_BN_TN_CAL_SPCK_TC_Subset_dB_LSMask.tif\n",
      "[Warning] Dimension mismatch (data vs landmask) for file: /mnt/raid01/SAR/Sentinel-1/Arctic/ScottTrough/asdf/snap_big/S1A_EW_GRDM_1SDH_20181101T115442_20181101T115542_024394_02AC06_F138_BN_TN_CAL_SPCK_TC_Subset_dB_LSMask.tif\n",
      "[Warning] Dimension mismatch (data vs landmask) for file: /mnt/raid01/SAR/Sentinel-1/Arctic/ScottTrough/asdf/snap_big/S1A_EW_GRDM_1SDH_20211215T115459_20211215T115559_041019_04DF67_5874_BN_TN_CAL_SPCK_TC_Subset_dB_LSMask.tif[Warning] Dimension mismatch (data vs landmask) for file: /mnt/raid01/SAR/Sentinel-1/Arctic/ScottTrough/asdf/snap_big/S1A_EW_GRDM_1SDH_20180210T115433_20180210T115533_020544_023263_8D78_BN_TN_CAL_SPCK_TC_Subset_dB_LSMask.tif\n",
      "\n"
     ]
    },
    {
     "name": "stderr",
     "output_type": "stream",
     "text": [
      "Converting:   6%|▋         | 113/1792 [00:05<01:06, 25.14it/s]"
     ]
    },
    {
     "name": "stdout",
     "output_type": "stream",
     "text": [
      "[Warning] Dimension mismatch (data vs landmask) for file: /mnt/raid01/SAR/Sentinel-1/Arctic/ScottTrough/asdf/snap_big/S1A_EW_GRDM_1SDH_20200131T115446_20200131T115546_031044_0390F3_1F89_BN_TN_CAL_SPCK_TC_Subset_dB_LSMask.tif\n",
      "[Warning] Dimension mismatch (data vs landmask) for file: /mnt/raid01/SAR/Sentinel-1/Arctic/ScottTrough/asdf/snap_big/S1A_EW_GRDM_1SDH_20201021T115455_20201021T115555_034894_041183_CE53_BN_TN_CAL_SPCK_TC_Subset_dB_LSMask.tif\n",
      "[Warning] Dimension mismatch (data vs landmask) for file: /mnt/raid01/SAR/Sentinel-1/Arctic/ScottTrough/asdf/snap_big/S1A_EW_GRDM_1SDH_20210206T115451_20210206T115551_036469_044817_3BB1_BN_TN_CAL_SPCK_TC_Subset_dB_LSMask.tif\n",
      "[Warning] Dimension mismatch (data vs landmask) for file: /mnt/raid01/SAR/Sentinel-1/Arctic/ScottTrough/asdf/snap_big/S1A_EW_GRDM_1SDH_20211028T115501_20211028T115601_040319_04C726_B1C5_BN_TN_CAL_SPCK_TC_Subset_dB_LSMask.tif\n"
     ]
    },
    {
     "name": "stderr",
     "output_type": "stream",
     "text": [
      "Converting:   7%|▋         | 118/1792 [00:05<00:58, 28.62it/s]"
     ]
    },
    {
     "name": "stdout",
     "output_type": "stream",
     "text": [
      "[Warning] Dimension mismatch (data vs landmask) for file: /mnt/raid01/SAR/Sentinel-1/Arctic/ScottTrough/asdf/snap_big/S1A_EW_GRDM_1SDH_20211109T115500_20211109T115600_040494_04CD4A_AE0D_BN_TN_CAL_SPCK_TC_Subset_dB_LSMask.tif\n",
      "[Warning] Dimension mismatch (data vs landmask) for file: /mnt/raid01/SAR/Sentinel-1/Arctic/ScottTrough/asdf/snap_big/S1A_EW_GRDM_1SDH_20181219T115441_20181219T115541_025094_02C510_976D_BN_TN_CAL_SPCK_TC_Subset_dB_LSMask.tif\n",
      "[Warning] Dimension mismatch (data vs landmask) for file: /mnt/raid01/SAR/Sentinel-1/Arctic/ScottTrough/asdf/snap_big/S1A_EW_GRDM_1SDH_20200107T115447_20200107T115547_030694_0384B1_0DD4_BN_TN_CAL_SPCK_TC_Subset_dB_LSMask.tif\n"
     ]
    },
    {
     "name": "stderr",
     "output_type": "stream",
     "text": [
      "Converting:   7%|▋         | 121/1792 [00:05<00:58, 28.76it/s]"
     ]
    },
    {
     "name": "stdout",
     "output_type": "stream",
     "text": [
      "[Warning] Dimension mismatch (data vs landmask) for file: /mnt/raid01/SAR/Sentinel-1/Arctic/ScottTrough/asdf/snap_big/S1A_EW_GRDM_1SDH_20201208T115454_20201208T115554_035594_0429B6_CED9_BN_TN_CAL_SPCK_TC_Subset_dB_LSMask.tif\n",
      "[Warning] Dimension mismatch (data vs landmask) for file: /mnt/raid01/SAR/Sentinel-1/Arctic/ScottTrough/asdf/snap_big/S1A_EW_GRDM_1SDH_20190112T115440_20190112T115540_025444_02D1AC_53BA_BN_TN_CAL_SPCK_TC_Subset_dB_LSMask.tif\n",
      "[Warning] Dimension mismatch (data vs landmask) for file: /mnt/raid01/SAR/Sentinel-1/Arctic/ScottTrough/asdf/snap_big/S1A_EW_GRDM_1SDH_20210218T115451_20210218T115551_036644_044E34_A9D3_BN_TN_CAL_SPCK_TC_Subset_dB_LSMask.tif"
     ]
    },
    {
     "name": "stderr",
     "output_type": "stream",
     "text": [
      "Converting:   7%|▋         | 124/1792 [00:05<01:13, 22.78it/s]"
     ]
    },
    {
     "name": "stdout",
     "output_type": "stream",
     "text": [
      "\n",
      "[Warning] Dimension mismatch (data vs landmask) for file: /mnt/raid01/SAR/Sentinel-1/Arctic/ScottTrough/asdf/snap_big/S1A_EW_GRDM_1SDH_20191202T115448_20191202T115548_030169_037290_33AF_BN_TN_CAL_SPCK_TC_Subset_dB_LSMask.tif\n",
      "[Warning] Dimension mismatch (data vs landmask) for file: /mnt/raid01/SAR/Sentinel-1/Arctic/ScottTrough/asdf/snap_big/S1A_EW_GRDM_1SDH_20181231T115440_20181231T115540_025269_02CB63_4D9A_BN_TN_CAL_SPCK_TC_Subset_dB_LSMask.tif\n",
      "[Warning] Dimension mismatch (data vs landmask) for file: /mnt/raid01/SAR/Sentinel-1/Arctic/ScottTrough/asdf/snap_big/S1A_EW_GRDM_1SDH_20191120T115448_20191120T115548_029994_036C81_5CE3_BN_TN_CAL_SPCK_TC_Subset_dB_LSMask.tif\n",
      "[Warning] Dimension mismatch (data vs landmask) for file: /mnt/raid01/SAR/Sentinel-1/Arctic/ScottTrough/asdf/snap_big/S1A_EW_GRDM_1SDH_20211227T115459_20211227T115559_041194_04E526_27C3_BN_TN_CAL_SPCK_TC_Subset_dB_LSMask.tif\n"
     ]
    },
    {
     "name": "stderr",
     "output_type": "stream",
     "text": [
      "Converting:   7%|▋         | 128/1792 [00:05<01:12, 22.82it/s]"
     ]
    },
    {
     "name": "stdout",
     "output_type": "stream",
     "text": [
      "[Warning] Dimension mismatch (data vs landmask) for file: /mnt/raid01/SAR/Sentinel-1/Arctic/ScottTrough/asdf/snap_big/S1A_EW_GRDM_1SDH_20201220T115453_20201220T115553_035769_042FB6_C0C1_BN_TN_CAL_SPCK_TC_Subset_dB_LSMask.tif\n",
      "[Warning] Dimension mismatch (data vs landmask) for file: /mnt/raid01/SAR/Sentinel-1/Arctic/ScottTrough/asdf/snap_big/S1A_EW_GRDM_1SDH_20200119T115446_20200119T115546_030869_038AD8_FF16_BN_TN_CAL_SPCK_TC_Subset_dB_LSMask.tif\n"
     ]
    },
    {
     "name": "stderr",
     "output_type": "stream",
     "text": [
      "Converting:  88%|████████▊ | 1585/1792 [04:41<00:41,  5.01it/s]"
     ]
    },
    {
     "name": "stdout",
     "output_type": "stream",
     "text": [
      "[Warning] Dimension mismatch (data vs landmask) for file: /mnt/raid01/SAR/Sentinel-1/Arctic/ScottTrough/asdf/snap_big/S1A_EW_GRDM_1SDH_20220108T115458_20220108T115558_041369_04EB20_5F0E_BN_TN_CAL_SPCK_TC_Subset_dB_LSMask.tif\n",
      "[Warning] Dimension mismatch (data vs landmask) for file: /mnt/raid01/SAR/Sentinel-1/Arctic/ScottTrough/asdf/snap_big/S1A_EW_GRDM_1SDH_20220213T115457_20220213T115557_041894_04FCE8_18BE_BN_TN_CAL_SPCK_TC_Subset_dB_LSMask.tif\n"
     ]
    },
    {
     "name": "stderr",
     "output_type": "stream",
     "text": [
      "Converting:  89%|████████▉ | 1592/1792 [04:42<00:34,  5.82it/s]"
     ]
    },
    {
     "name": "stdout",
     "output_type": "stream",
     "text": [
      "[Warning] Dimension mismatch (data vs landmask) for file: /mnt/raid01/SAR/Sentinel-1/Arctic/ScottTrough/asdf/snap_big/S1A_EW_GRDM_1SDH_20220225T115457_20220225T115557_042069_0502F5_ACB0_BN_TN_CAL_SPCK_TC_Subset_dB_LSMask.tif\n"
     ]
    },
    {
     "name": "stderr",
     "output_type": "stream",
     "text": [
      "Converting:  89%|████████▉ | 1595/1792 [04:42<00:27,  7.19it/s]"
     ]
    },
    {
     "name": "stdout",
     "output_type": "stream",
     "text": [
      "[Warning] Dimension mismatch (data vs landmask) for file: /mnt/raid01/SAR/Sentinel-1/Arctic/ScottTrough/asdf/snap_big/S1A_EW_GRDM_1SDH_20220120T115457_20220120T115557_041544_04F0D0_481E_BN_TN_CAL_SPCK_TC_Subset_dB_LSMask.tif\n"
     ]
    },
    {
     "name": "stderr",
     "output_type": "stream",
     "text": [
      "Converting:  89%|████████▉ | 1598/1792 [04:43<00:34,  5.54it/s]"
     ]
    },
    {
     "name": "stdout",
     "output_type": "stream",
     "text": [
      "[Warning] Dimension mismatch (data vs landmask) for file: /mnt/raid01/SAR/Sentinel-1/Arctic/ScottTrough/asdf/snap_big/S1A_EW_GRDM_1SDH_20220309T115457_20220309T115557_042244_0508EF_64DB_BN_TN_CAL_SPCK_TC_Subset_dB_LSMask.tif\n"
     ]
    },
    {
     "name": "stderr",
     "output_type": "stream",
     "text": [
      "Converting:  89%|████████▉ | 1603/1792 [04:44<00:32,  5.84it/s]"
     ]
    },
    {
     "name": "stdout",
     "output_type": "stream",
     "text": [
      "[Warning] Dimension mismatch (data vs landmask) for file: /mnt/raid01/SAR/Sentinel-1/Arctic/ScottTrough/asdf/snap_big/S1A_EW_GRDM_1SDH_20220321T115457_20220321T115557_042419_050EDB_B5E7_BN_TN_CAL_SPCK_TC_Subset_dB_LSMask.tif\n"
     ]
    },
    {
     "name": "stderr",
     "output_type": "stream",
     "text": [
      "Converting:  90%|████████▉ | 1605/1792 [04:44<00:25,  7.39it/s]"
     ]
    },
    {
     "name": "stdout",
     "output_type": "stream",
     "text": [
      "[Warning] Dimension mismatch (data vs landmask) for file: /mnt/raid01/SAR/Sentinel-1/Arctic/ScottTrough/asdf/snap_big/S1A_EW_GRDM_1SDH_20220201T115457_20220201T115557_041719_04F6CF_A79A_BN_TN_CAL_SPCK_TC_Subset_dB_LSMask.tif\n"
     ]
    },
    {
     "name": "stderr",
     "output_type": "stream",
     "text": [
      "Converting:  90%|████████▉ | 1612/1792 [04:45<00:25,  7.14it/s]"
     ]
    },
    {
     "name": "stdout",
     "output_type": "stream",
     "text": [
      "[Warning] Dimension mismatch (data vs landmask) for file: /mnt/raid01/SAR/Sentinel-1/Arctic/ScottTrough/asdf/snap_big/S1A_EW_GRDM_1SDH_20220625T115502_20220625T115602_043819_053B35_C27E_BN_TN_CAL_SPCK_TC_Subset_dB_LSMask.tif\n"
     ]
    },
    {
     "name": "stderr",
     "output_type": "stream",
     "text": [
      "Converting:  90%|█████████ | 1618/1792 [04:46<00:34,  5.09it/s]"
     ]
    },
    {
     "name": "stdout",
     "output_type": "stream",
     "text": [
      "[Warning] Dimension mismatch (data vs landmask) for file: /mnt/raid01/SAR/Sentinel-1/Arctic/ScottTrough/asdf/snap_big/S1A_EW_GRDM_1SDH_20220520T115459_20220520T115559_043294_052B92_F69D_BN_TN_CAL_SPCK_TC_Subset_dB_LSMask.tif\n"
     ]
    },
    {
     "name": "stderr",
     "output_type": "stream",
     "text": [
      "Converting:  90%|█████████ | 1620/1792 [04:46<00:26,  6.48it/s]"
     ]
    },
    {
     "name": "stdout",
     "output_type": "stream",
     "text": [
      "[Warning] Dimension mismatch (data vs landmask) for file: /mnt/raid01/SAR/Sentinel-1/Arctic/ScottTrough/asdf/snap_big/S1A_EW_GRDM_1SDH_20220707T115503_20220707T115603_043994_054062_B6D0_BN_TN_CAL_SPCK_TC_Subset_dB_LSMask.tif\n"
     ]
    },
    {
     "name": "stderr",
     "output_type": "stream",
     "text": [
      "Converting:  91%|█████████ | 1625/1792 [04:47<00:27,  6.13it/s]"
     ]
    },
    {
     "name": "stdout",
     "output_type": "stream",
     "text": [
      "[Warning] Dimension mismatch (data vs landmask) for file: /mnt/raid01/SAR/Sentinel-1/Arctic/ScottTrough/asdf/snap_big/S1A_EW_GRDM_1SDH_20220601T115500_20220601T115600_043469_0530BF_B7D3_BN_TN_CAL_SPCK_TC_Subset_dB_LSMask.tif\n"
     ]
    },
    {
     "name": "stderr",
     "output_type": "stream",
     "text": [
      "Converting:  91%|█████████ | 1630/1792 [04:48<00:25,  6.23it/s]"
     ]
    },
    {
     "name": "stdout",
     "output_type": "stream",
     "text": [
      "[Warning] Dimension mismatch (data vs landmask) for file: /mnt/raid01/SAR/Sentinel-1/Arctic/ScottTrough/asdf/snap_big/S1A_EW_GRDM_1SDH_20220719T115503_20220719T115603_044169_0545AA_ED18_BN_TN_CAL_SPCK_TC_Subset_dB_LSMask.tif\n"
     ]
    },
    {
     "name": "stderr",
     "output_type": "stream",
     "text": [
      "Converting:  91%|█████████▏| 1639/1792 [04:49<00:27,  5.54it/s]"
     ]
    },
    {
     "name": "stdout",
     "output_type": "stream",
     "text": [
      "[Warning] Dimension mismatch (data vs landmask) for file: /mnt/raid01/SAR/Sentinel-1/Arctic/ScottTrough/asdf/snap_big/S1A_EW_GRDM_1SDH_20220731T115504_20220731T115604_044344_054ACC_A9EE_BN_TN_CAL_SPCK_TC_Subset_dB_LSMask.tif\n"
     ]
    },
    {
     "name": "stderr",
     "output_type": "stream",
     "text": [
      "Converting:  92%|█████████▏| 1647/1792 [04:51<00:24,  5.99it/s]"
     ]
    },
    {
     "name": "stdout",
     "output_type": "stream",
     "text": [
      "[Warning] Dimension mismatch (data vs landmask) for file: /mnt/raid01/SAR/Sentinel-1/Arctic/ScottTrough/asdf/snap_big/S1A_EW_GRDM_1SDH_20220812T115505_20220812T115605_044519_055014_84EB_BN_TN_CAL_SPCK_TC_Subset_dB_LSMask.tif\n"
     ]
    },
    {
     "name": "stderr",
     "output_type": "stream",
     "text": [
      "Converting:  93%|█████████▎| 1664/1792 [04:54<00:28,  4.43it/s]"
     ]
    },
    {
     "name": "stdout",
     "output_type": "stream",
     "text": [
      "[Warning] Dimension mismatch (data vs landmask) for file: /mnt/raid01/SAR/Sentinel-1/Arctic/ScottTrough/asdf/snap_big/S1A_EW_GRDM_1SDH_20230127T115503_20230127T115603_046969_05A227_D4A2_BN_TN_CAL_SPCK_TC_Subset_dB_LSMask.tif\n"
     ]
    },
    {
     "name": "stderr",
     "output_type": "stream",
     "text": [
      "Converting:  93%|█████████▎| 1668/1792 [04:54<00:18,  6.80it/s]"
     ]
    },
    {
     "name": "stdout",
     "output_type": "stream",
     "text": [
      "[Warning] Dimension mismatch (data vs landmask) for file: /mnt/raid01/SAR/Sentinel-1/Arctic/ScottTrough/asdf/snap_big/S1A_EW_GRDM_1SDH_20221222T115505_20221222T115605_046444_059069_E201_BN_TN_CAL_SPCK_TC_Subset_dB_LSMask.tif\n"
     ]
    },
    {
     "name": "stderr",
     "output_type": "stream",
     "text": [
      "Converting:  94%|█████████▍| 1684/1792 [04:57<00:21,  4.97it/s]"
     ]
    },
    {
     "name": "stdout",
     "output_type": "stream",
     "text": [
      "[Warning] Dimension mismatch (data vs landmask) for file: /mnt/raid01/SAR/Sentinel-1/Arctic/ScottTrough/asdf/snap_big/S1A_EW_GRDM_1SDH_20230115T115503_20230115T115603_046794_059C3C_BEEC_BN_TN_CAL_SPCK_TC_Subset_dB_LSMask.tif\n"
     ]
    },
    {
     "name": "stderr",
     "output_type": "stream",
     "text": [
      "Converting:  94%|█████████▍| 1687/1792 [04:57<00:14,  7.34it/s]"
     ]
    },
    {
     "name": "stdout",
     "output_type": "stream",
     "text": [
      "[Warning] Dimension mismatch (data vs landmask) for file: /mnt/raid01/SAR/Sentinel-1/Arctic/ScottTrough/asdf/snap_big/S1A_EW_GRDM_1SDH_20221210T115506_20221210T115606_046269_058A72_F652_BN_TN_CAL_SPCK_TC_Subset_dB_LSMask.tif\n"
     ]
    },
    {
     "name": "stderr",
     "output_type": "stream",
     "text": [
      "Converting:  95%|█████████▍| 1702/1792 [05:00<00:21,  4.24it/s]"
     ]
    },
    {
     "name": "stdout",
     "output_type": "stream",
     "text": [
      "[Warning] Dimension mismatch (data vs landmask) for file: /mnt/raid01/SAR/Sentinel-1/Arctic/ScottTrough/asdf/snap_big/S1A_EW_GRDM_1SDH_20230208T115502_20230208T115602_047144_05A801_B227_BN_TN_CAL_SPCK_TC_Subset_dB_LSMask.tif\n"
     ]
    },
    {
     "name": "stderr",
     "output_type": "stream",
     "text": [
      "Converting:  96%|█████████▋| 1726/1792 [05:04<00:14,  4.66it/s]"
     ]
    },
    {
     "name": "stdout",
     "output_type": "stream",
     "text": [
      "[Warning] Dimension mismatch (data vs landmask) for file: /mnt/raid01/SAR/Sentinel-1/Arctic/ScottTrough/asdf/snap_big/S1A_EW_GRDM_1SDH_20230726T115509_20230726T115609_049594_05F6AC_782D_BN_TN_CAL_SPCK_TC_Subset_dB_LSMask.tif\n"
     ]
    },
    {
     "name": "stderr",
     "output_type": "stream",
     "text": [
      "Converting:  97%|█████████▋| 1742/1792 [05:07<00:08,  6.19it/s]"
     ]
    },
    {
     "name": "stdout",
     "output_type": "stream",
     "text": [
      "[Warning] Dimension mismatch (data vs landmask) for file: /mnt/raid01/SAR/Sentinel-1/Arctic/ScottTrough/asdf/snap_big/S1A_EW_GRDM_1SDH_20230819T115510_20230819T115610_049944_06020D_AAC6_BN_TN_CAL_SPCK_TC_Subset_dB_LSMask.tif\n",
      "[Warning] Dimension mismatch (data vs landmask) for file: /mnt/raid01/SAR/Sentinel-1/Arctic/ScottTrough/asdf/snap_big/S1A_EW_GRDM_1SDH_20230714T115508_20230714T115608_049419_05F152_0AC7_BN_TN_CAL_SPCK_TC_Subset_dB_LSMask.tif\n"
     ]
    },
    {
     "name": "stderr",
     "output_type": "stream",
     "text": [
      "Converting:  98%|█████████▊| 1748/1792 [05:08<00:05,  7.46it/s]"
     ]
    },
    {
     "name": "stdout",
     "output_type": "stream",
     "text": [
      "[Warning] Dimension mismatch (data vs landmask) for file: /mnt/raid01/SAR/Sentinel-1/Arctic/ScottTrough/asdf/snap_big/S1A_EW_GRDM_1SDH_20230831T115511_20230831T115611_050119_06080C_640B_BN_TN_CAL_SPCK_TC_Subset_dB_LSMask.tif\n"
     ]
    },
    {
     "name": "stderr",
     "output_type": "stream",
     "text": [
      "Converting:  98%|█████████▊| 1756/1792 [05:09<00:05,  6.25it/s]"
     ]
    },
    {
     "name": "stdout",
     "output_type": "stream",
     "text": [
      "[Warning] Dimension mismatch (data vs landmask) for file: /mnt/raid01/SAR/Sentinel-1/Arctic/ScottTrough/asdf/snap_big/S1A_EW_GRDM_1SDH_20230912T115511_20230912T115611_050294_060E05_E6B8_BN_TN_CAL_SPCK_TC_Subset_dB_LSMask.tif\n"
     ]
    },
    {
     "name": "stderr",
     "output_type": "stream",
     "text": [
      "Converting:  98%|█████████▊| 1764/1792 [05:11<00:04,  6.18it/s]"
     ]
    },
    {
     "name": "stdout",
     "output_type": "stream",
     "text": [
      "[Warning] Dimension mismatch (data vs landmask) for file: /mnt/raid01/SAR/Sentinel-1/Arctic/ScottTrough/asdf/snap_big/S1A_EW_GRDM_1SDH_20230924T115512_20230924T115612_050469_0613F8_B200_BN_TN_CAL_SPCK_TC_Subset_dB_LSMask.tif\n"
     ]
    },
    {
     "name": "stderr",
     "output_type": "stream",
     "text": [
      "Converting:  99%|█████████▊| 1766/1792 [05:11<00:03,  7.29it/s]"
     ]
    },
    {
     "name": "stdout",
     "output_type": "stream",
     "text": [
      "[Warning] Dimension mismatch (data vs landmask) for file: /mnt/raid01/SAR/Sentinel-1/Arctic/ScottTrough/asdf/snap_big/S1A_EW_GRDM_1SDH_20231111T115511_20231111T115611_051169_062BF3_556A_BN_TN_CAL_SPCK_TC_Subset_dB_LSMask.tif\n"
     ]
    },
    {
     "name": "stderr",
     "output_type": "stream",
     "text": [
      "Converting:  99%|█████████▉| 1772/1792 [05:12<00:04,  4.99it/s]"
     ]
    },
    {
     "name": "stdout",
     "output_type": "stream",
     "text": [
      "[Warning] Dimension mismatch (data vs landmask) for file: /mnt/raid01/SAR/Sentinel-1/Arctic/ScottTrough/asdf/snap_big/S1A_EW_GRDM_1SDH_20231006T115512_20231006T115612_050644_0619F6_2991_BN_TN_CAL_SPCK_TC_Subset_dB_LSMask.tif\n"
     ]
    },
    {
     "name": "stderr",
     "output_type": "stream",
     "text": [
      "Converting:  99%|█████████▉| 1774/1792 [05:12<00:02,  6.75it/s]"
     ]
    },
    {
     "name": "stdout",
     "output_type": "stream",
     "text": [
      "[Warning] Dimension mismatch (data vs landmask) for file: /mnt/raid01/SAR/Sentinel-1/Arctic/ScottTrough/asdf/snap_big/S1A_EW_GRDM_1SDH_20231123T115511_20231123T115611_051344_063201_3D48_BN_TN_CAL_SPCK_TC_Subset_dB_LSMask.tif\n"
     ]
    },
    {
     "name": "stderr",
     "output_type": "stream",
     "text": [
      "Converting:  99%|█████████▉| 1779/1792 [05:13<00:01,  8.67it/s]"
     ]
    },
    {
     "name": "stdout",
     "output_type": "stream",
     "text": [
      "[Warning] Dimension mismatch (data vs landmask) for file: /mnt/raid01/SAR/Sentinel-1/Arctic/ScottTrough/asdf/snap_big/S1A_EW_GRDM_1SDH_20231018T115512_20231018T115612_050819_061FFE_4FE0_BN_TN_CAL_SPCK_TC_Subset_dB_LSMask.tif\n"
     ]
    },
    {
     "name": "stderr",
     "output_type": "stream",
     "text": [
      "Converting: 100%|██████████| 1792/1792 [05:16<00:00,  5.67it/s]"
     ]
    },
    {
     "name": "stdout",
     "output_type": "stream",
     "text": [
      "[Info] Conversion completed.\n"
     ]
    },
    {
     "name": "stderr",
     "output_type": "stream",
     "text": [
      "\n"
     ]
    }
   ],
   "source": [
    "# input_directory  = \"/mnt/raid01/SAR/Sentinel-1/Arctic/WesternSvalbard/pipeline_snap/\"\n",
    "# landmask_path    = \"/mnt/raid01/SAR/Sentinel-1/Arctic/ArcticDeepSeepsData/AOIs_timeseries/landmasks/svalbard_landmask.tif\"\n",
    "# output_directory = \"/mnt/raid01/SAR/Sentinel-1/Arctic/ArcticDeepSeepsData/AOIs_timeseries/western_svalbard_png/HH/\"\n",
    "\n",
    "\n",
    "# input_directory  = \"/mnt/raid01/SAR/Sentinel-1/Arctic/DiscoBay/Nussaq/pipeline_snap/\"\n",
    "# landmask_path    = \"/mnt/raid01/SAR/Sentinel-1/Arctic/ArcticDeepSeepsData/AOIs_timeseries/landmasks/nussaq_landmask.tif\"\n",
    "# output_directory = \"/mnt/raid01/SAR/Sentinel-1/Arctic/ArcticDeepSeepsData/AOIs_timeseries/nussaq_png/HV/\"\n",
    "\n",
    "input_directory  = '/mnt/raid01/SAR/Sentinel-1/Arctic/ScottTrough/asdf/snap_big/'\n",
    "landmask_path    = \"/mnt/raid01/SAR/Sentinel-1/Arctic/ArcticDeepSeepsData/AOIs_timeseries/landmasks/scott_big_landmask.tif\"\n",
    "output_directory = \"/mnt/raid01/SAR/Sentinel-1/Arctic/ArcticDeepSeepsData/AOIs_timeseries/scott_big_png/HH_polygon/\"\n",
    "\n",
    "\n",
    "# svalbard_HH_HV\n",
    "    # desired_width=1024,\n",
    "    # desired_height=1024,\n",
    "    # vmin = -48.9,\n",
    "    # vmax = 0.1,\n",
    "\n",
    "# nussaq_HH\n",
    "    # desired_width=2369,\n",
    "    # desired_height=1891,\n",
    "    # vmin = -41.9,\n",
    "    # vmax = -0.3,\n",
    "\n",
    "# nussaq_HV\n",
    "    # vmin = -48.6,\n",
    "    # vmax = -19.5,\n",
    "\n",
    "# scott_big_HH\n",
    "    # desired_width=2494,\n",
    "    # desired_height=2495,\n",
    "    # vmin = -49.3,\n",
    "    # vmax = -1.3,\n",
    "    \n",
    "# scott_big_HV\n",
    "    # vmin = -47.4,\n",
    "    # vmax = -16.2,\n",
    "\n",
    "\n",
    "convert_geotiffs_to_pngs(\n",
    "    input_dir=input_directory,\n",
    "    landmask_path=landmask_path,\n",
    "    output_dir=output_directory,\n",
    "    desired_width=2494,\n",
    "    desired_height=2495,\n",
    "    vmin = -49.3,\n",
    "    vmax = -1.3,\n",
    "    channel_num=1,             # example\n",
    "    flag_calc_vmin_vmax=False, # or True if you want to compute from data\n",
    "    num_processes=8,\n",
    "    polygon_wkt='POLYGON(( 71.19 -70.75,  71.19 -69.55,  71.59 -69.55,  71.59 -70.75,  71.19 -70.75))'\n",
    "    \n",
    ")"
   ]
  },
  {
   "cell_type": "markdown",
   "metadata": {},
   "source": [
    "### PNG to MP4 steady scenes per second"
   ]
  },
  {
   "cell_type": "code",
   "execution_count": 12,
   "metadata": {},
   "outputs": [
    {
     "name": "stdout",
     "output_type": "stream",
     "text": [
      "Filtering images from 01/01/2018 until 31/12/2019.\n",
      "Dir1: Kept 456 out of 1633 images after date filter.\n",
      "Dir2: Kept 456 out of 1633 images after date filter.\n",
      "Side-by-side video saved to /mnt/raid01/SAR/Sentinel-1/Arctic/ArcticDeepSeepsData/AOIs_timeseries/scott_polygon_dual_between_01012018_and_31122019.mp4\n"
     ]
    }
   ],
   "source": [
    "import os\n",
    "import cv2\n",
    "import numpy as np\n",
    "from datetime import datetime, date # Import date explicitly\n",
    "\n",
    "def add_text_to_image(image,\n",
    "                      date_text,\n",
    "                      time_text,\n",
    "                      identifier_text,\n",
    "                      position=(60, 90),\n",
    "                      font_scale=3,\n",
    "                      font_color=(255, 255, 255)):\n",
    "    \"\"\"\n",
    "    Add date, time, and identifier (e.g., satellite) text to the image.\n",
    "    \"\"\"\n",
    "    font = cv2.FONT_HERSHEY_SIMPLEX\n",
    "    date_position = position\n",
    "    time_position = (position[0], position[1] + 90)       # Position time below date\n",
    "    identifier_position = (position[0], position[1] + 180) # Position identifier below time\n",
    "\n",
    "    # You can adjust the color, thickness, etc.\n",
    "    font_color = (0, 0, 0)  # black text\n",
    "    thickness = 5\n",
    "\n",
    "    cv2.putText(image, date_text, date_position, font, font_scale, font_color, thickness, cv2.LINE_AA)\n",
    "    cv2.putText(image, time_text, time_position, font, font_scale, font_color, thickness, cv2.LINE_AA)\n",
    "    cv2.putText(image, identifier_text, identifier_position, font, font_scale, font_color, thickness, cv2.LINE_AA)\n",
    "\n",
    "    return image\n",
    "\n",
    "def parse_filename_for_datetime(filename):\n",
    "    \"\"\"\n",
    "    Extracts a datetime object and identifier from a Sentinel-1 style filename.\n",
    "    Adjust the slicing for your specific naming format as needed.\n",
    "\n",
    "    Example filename: \"S1A_..._20170101T072022_..._B670_SNAP.png\"\n",
    "    \"\"\"\n",
    "    try:\n",
    "        # Extract date and time components based on the filename structure\n",
    "        year = filename[17:21]\n",
    "        month = filename[21:23]\n",
    "        day = filename[23:25]\n",
    "        hour = filename[26:28]\n",
    "        minute = filename[28:30]\n",
    "        second = filename[30:32]\n",
    "        sat = filename[0:3]\n",
    "\n",
    "        # Create a datetime object\n",
    "        file_datetime = datetime(int(year), int(month), int(day), int(hour), int(minute), int(second))\n",
    "    except Exception as e:\n",
    "        print(f\"Warning: Error parsing filename '{filename}': {e}. Assigning default date.\")\n",
    "        # Assign a default datetime far in the past/future if parsing fails\n",
    "        # This helps ensure they are excluded if date filters are active\n",
    "        file_datetime = datetime.min\n",
    "        sat = \"SAT\"\n",
    "\n",
    "    return file_datetime, sat\n",
    "\n",
    "# Helper function to get just the date part for comparison\n",
    "def get_date_from_filename(filename):\n",
    "    \"\"\"Parses filename and returns only the date part of the datetime object.\"\"\"\n",
    "    # Return None if parsing failed to avoid comparison errors later\n",
    "    try:\n",
    "        return parse_filename_for_datetime(filename)[0].date()\n",
    "    except: # Catch potential errors from parse_filename_for_datetime returning datetime.min\n",
    "        return None # Indicate failure to get a valid date\n",
    "\n",
    "def create_video(dir1,\n",
    "                 output_video,\n",
    "                 frame_rate=3,\n",
    "                 side_by_side=False,\n",
    "                 dir2=None,\n",
    "                 start_date_str=None, # <-- Existing parameter\n",
    "                 end_date_str=None):   # <-- New parameter\n",
    "    \"\"\"\n",
    "    Creates a timelapse video from PNG images sorted by date and time extracted from filenames.\n",
    "\n",
    "    :param dir1: Path to the primary directory containing PNG images.\n",
    "    :param output_video: Output video file path (e.g., .mp4).\n",
    "    :param frame_rate: Frames per second in the output video.\n",
    "    :param side_by_side: If True, images from dir1 and dir2 will be combined horizontally.\n",
    "    :param dir2: Path to the secondary directory (used only if side_by_side=True).\n",
    "    :param start_date_str: Optional. Start date in 'DDMMYYYY' format. Images before this date will be excluded.\n",
    "    :param end_date_str: Optional. End date in 'DDMMYYYY' format. Images after this date will be excluded.\n",
    "    \"\"\"\n",
    "\n",
    "    start_date_filter = None\n",
    "    end_date_filter = None\n",
    "    date_filter_active = False\n",
    "\n",
    "    # Parse Start Date\n",
    "    if start_date_str:\n",
    "        try:\n",
    "            start_date_filter = datetime.strptime(start_date_str, \"%d%m%Y\").date()\n",
    "            date_filter_active = True\n",
    "        except ValueError:\n",
    "            print(f\"Error: Invalid start_date format '{start_date_str}'. Please use DDMMYYYY. Start date filter ignored.\")\n",
    "\n",
    "    # Parse End Date\n",
    "    if end_date_str:\n",
    "        try:\n",
    "            end_date_filter = datetime.strptime(end_date_str, \"%d%m%Y\").date()\n",
    "            date_filter_active = True\n",
    "        except ValueError:\n",
    "            print(f\"Error: Invalid end_date format '{end_date_str}'. Please use DDMMYYYY. End date filter ignored.\")\n",
    "\n",
    "    # Print filter status\n",
    "    if date_filter_active:\n",
    "        start_msg = f\"from {start_date_filter.strftime('%d/%m/%Y')}\" if start_date_filter else \"from beginning\"\n",
    "        end_msg = f\"until {end_date_filter.strftime('%d/%m/%Y')}\" if end_date_filter else \"until end\"\n",
    "        print(f\"Filtering images {start_msg} {end_msg}.\")\n",
    "    else:\n",
    "        print(\"No date filters applied.\")\n",
    "\n",
    "\n",
    "    # --- Filtering Function ---\n",
    "    def apply_date_filter(filenames):\n",
    "        if not date_filter_active:\n",
    "            return filenames # No filtering needed\n",
    "\n",
    "        filtered_list = []\n",
    "        for f in filenames:\n",
    "            img_date = get_date_from_filename(f)\n",
    "            if img_date is None: # Skip files with parsing errors\n",
    "                continue\n",
    "\n",
    "            # Apply filters based on which dates are set\n",
    "            include = True\n",
    "            if start_date_filter and img_date < start_date_filter:\n",
    "                include = False\n",
    "            if end_date_filter and img_date > end_date_filter:\n",
    "                include = False\n",
    "\n",
    "            if include:\n",
    "                filtered_list.append(f)\n",
    "        return filtered_list\n",
    "    # --- End Filtering Function ---\n",
    "\n",
    "\n",
    "    if side_by_side:\n",
    "        if not dir2:\n",
    "            raise ValueError(\"When side_by_side=True, you must provide 'dir2' as well.\")\n",
    "\n",
    "        # 1) Gather initial PNG filenames from each directory\n",
    "        images_1_all = [f for f in os.listdir(dir1) if f.lower().endswith('.png')]\n",
    "        images_2_all = [f for f in os.listdir(dir2) if f.lower().endswith('.png')]\n",
    "\n",
    "        # 1a) Apply Date Filter\n",
    "        images_1_filtered = apply_date_filter(images_1_all)\n",
    "        images_2_filtered = apply_date_filter(images_2_all)\n",
    "\n",
    "        if date_filter_active:\n",
    "            print(f\"Dir1: Kept {len(images_1_filtered)} out of {len(images_1_all)} images after date filter.\")\n",
    "            print(f\"Dir2: Kept {len(images_2_filtered)} out of {len(images_2_all)} images after date filter.\")\n",
    "\n",
    "        # 2) Find common files *from the filtered lists*\n",
    "        common_files = list(set(images_1_filtered).intersection(set(images_2_filtered)))\n",
    "        if not common_files:\n",
    "            print(\"No common PNG files found in the two directories within the specified date range.\")\n",
    "            return\n",
    "\n",
    "        # 3) Sort common_files based on datetime\n",
    "        def get_datetime_sort_key(fname):\n",
    "            return parse_filename_for_datetime(fname)[0]\n",
    "\n",
    "        common_files.sort(key=get_datetime_sort_key)\n",
    "\n",
    "        if not common_files:\n",
    "            print(\"No PNG images to process after sorting.\") # Should not happen if check above passed\n",
    "            return\n",
    "\n",
    "        # 4) Read first pair to determine output size\n",
    "        first_img_1 = cv2.imread(os.path.join(dir1, common_files[0]))\n",
    "        first_img_2 = cv2.imread(os.path.join(dir2, common_files[0]))\n",
    "\n",
    "        if first_img_1 is None or first_img_2 is None:\n",
    "            print(f\"Failed to read the first pair of images ({common_files[0]}) for size determination.\")\n",
    "            return\n",
    "\n",
    "        # Ensure both are the same size if needed\n",
    "        h1, w1 = first_img_1.shape[:2]\n",
    "        h2, w2 = first_img_2.shape[:2]\n",
    "        if (h1, w1) != (h2, w2):\n",
    "            first_img_2 = cv2.resize(first_img_2, (w1, h1), interpolation=cv2.INTER_AREA)\n",
    "\n",
    "        combined_first = np.hstack([first_img_1, first_img_2])\n",
    "        out_height, out_width = combined_first.shape[:2]\n",
    "\n",
    "        # 5) Create VideoWriter\n",
    "        fourcc = cv2.VideoWriter_fourcc(*'mp4v')\n",
    "        video_writer = cv2.VideoWriter(output_video, fourcc, frame_rate, (out_width, out_height))\n",
    "\n",
    "        # 6) Loop through each common file (already filtered and sorted)\n",
    "        for fname in common_files:\n",
    "            path1 = os.path.join(dir1, fname)\n",
    "            path2 = os.path.join(dir2, fname)\n",
    "\n",
    "            img1 = cv2.imread(path1)\n",
    "            img2 = cv2.imread(path2)\n",
    "\n",
    "            if img1 is None or img2 is None:\n",
    "                print(f\"Skipping {fname}, could not read one of the images.\")\n",
    "                continue\n",
    "\n",
    "            # Resize if needed (using consistent logic)\n",
    "            h1_curr, w1_curr = img1.shape[:2]\n",
    "            h2_curr, w2_curr = img2.shape[:2]\n",
    "            target_h, target_w = h1, w1 # Use size from the first valid pair\n",
    "            if (h1_curr, w1_curr) != (target_h, target_w):\n",
    "                img1 = cv2.resize(img1, (target_w, target_h), interpolation=cv2.INTER_AREA)\n",
    "            if (h2_curr, w2_curr) != (target_h, target_w):\n",
    "                 img2 = cv2.resize(img2, (target_w, target_h), interpolation=cv2.INTER_AREA)\n",
    "\n",
    "\n",
    "            combined = np.hstack([img1, img2])\n",
    "\n",
    "            # Parse filename for datetime and satellite\n",
    "            file_datetime, sat_str = parse_filename_for_datetime(fname)\n",
    "            date_str = file_datetime.strftime(\"%d/%m/%Y\")\n",
    "            time_str = file_datetime.strftime(\"%H:%M:%S\")\n",
    "\n",
    "            # Add overlay text\n",
    "            combined_with_text = add_text_to_image(combined, date_str, time_str, sat_str)\n",
    "            video_writer.write(combined_with_text)\n",
    "\n",
    "        video_writer.release()\n",
    "        print(f\"Side-by-side video saved to {output_video}\")\n",
    "\n",
    "    else:\n",
    "        # Single-directory mode\n",
    "        # 1) Gather initial PNG filenames\n",
    "        images_all = [f for f in os.listdir(dir1) if f.lower().endswith('.png')]\n",
    "        if not images_all:\n",
    "            print(f\"No PNG images found in {dir1}\")\n",
    "            return\n",
    "\n",
    "        # 1a) Apply Date Filter\n",
    "        images_filtered = apply_date_filter(images_all)\n",
    "\n",
    "        if date_filter_active:\n",
    "             print(f\"Dir1: Kept {len(images_filtered)} out of {len(images_all)} images after date filter.\")\n",
    "\n",
    "        if not images_filtered:\n",
    "            print(f\"No PNG images remaining in {dir1} within the specified date range.\")\n",
    "            return\n",
    "\n",
    "        # 1b) Sort images based on datetime *after filtering*\n",
    "        def get_datetime_sort_key(fname):\n",
    "            return parse_filename_for_datetime(fname)[0]\n",
    "\n",
    "        images_filtered.sort(key=get_datetime_sort_key)\n",
    "        images = images_filtered # Use filtered list\n",
    "\n",
    "        # 2) Determine size from the first image in the filtered list\n",
    "        first_img = cv2.imread(os.path.join(dir1, images[0]))\n",
    "        if first_img is None:\n",
    "            print(f\"Failed to read the first image ({images[0]}) for size determination.\")\n",
    "            return\n",
    "        height, width = first_img.shape[:2]\n",
    "\n",
    "        # 3) Create VideoWriter\n",
    "        fourcc = cv2.VideoWriter_fourcc(*'mp4v')\n",
    "        # fourcc = cv2.VideoWriter_fourcc(*'avc1')\n",
    "        # fourcc = cv2.VideoWriter_fourcc(*'XVID')\n",
    "        video_writer = cv2.VideoWriter(output_video, fourcc, frame_rate, (width, height))\n",
    "\n",
    "        # 4) Loop through each image (already filtered and sorted)\n",
    "        for fname in images:\n",
    "            path = os.path.join(dir1, fname)\n",
    "            img = cv2.imread(path)\n",
    "            if img is None:\n",
    "                print(f\"Skipping {fname}, could not read image.\")\n",
    "                continue\n",
    "\n",
    "            # Ensure consistent frame size\n",
    "            h_curr, w_curr = img.shape[:2]\n",
    "            if (h_curr, w_curr) != (height, width):\n",
    "                 print(f\"Warning: Resizing image {fname} from {w_curr}x{h_curr} to {width}x{height}\")\n",
    "                 img = cv2.resize(img, (width, height), interpolation=cv2.INTER_AREA)\n",
    "\n",
    "            # Parse filename for datetime and satellite\n",
    "            file_datetime, sat_str = parse_filename_for_datetime(fname)\n",
    "            date_str = file_datetime.strftime(\"%d/%m/%Y\")\n",
    "            time_str = file_datetime.strftime(\"%H:%M:%S\")\n",
    "\n",
    "            # Add text\n",
    "            img_with_text = add_text_to_image(img, date_str, time_str, sat_str)\n",
    "            video_writer.write(img_with_text)\n",
    "\n",
    "        video_writer.release()\n",
    "        print(f\"Single-directory timelapse video saved to {output_video}\")\n",
    "\n",
    "if __name__ == \"__main__\":\n",
    "    # --- Example Usage ---\n",
    "\n",
    "    # Define directories and output (adjust paths as needed)\n",
    "    dir_first = '/mnt/raid01/SAR/Sentinel-1/Arctic/ArcticDeepSeepsData/AOIs_timeseries/scott_big_png/HH_polygon/'\n",
    "    dir_second = '/mnt/raid01/SAR/Sentinel-1/Arctic/ArcticDeepSeepsData/AOIs_timeseries/scott_big_png/HV_polygon/'\n",
    "    output_video_base = \"/mnt/raid01/SAR/Sentinel-1/Arctic/ArcticDeepSeepsData/AOIs_timeseries/scott_polygon_dual\"\n",
    "\n",
    "    # # --- Scenario 1: Side-by-side, full date range ---\n",
    "    # print(\"\\n--- Running Scenario 1: Side-by-side, full range ---\")\n",
    "    # create_video(dir_first,\n",
    "    #              output_video_base + \"_all_dates.mp4\",\n",
    "    #              frame_rate=9,\n",
    "    #              side_by_side=True,\n",
    "    #              dir2=dir_second,\n",
    "    #              start_date_str=None, # Explicitly None or omit\n",
    "    #              end_date_str=None)   # Explicitly None or omit\n",
    "\n",
    "    # # --- Scenario 2: Side-by-side, start date filter only ---\n",
    "    # print(\"\\n--- Running Scenario 2: Side-by-side, filtered from 01 Jan 2020 ---\")\n",
    "    # start_date = \"01012020\"\n",
    "    # create_video(dir_first,\n",
    "    #              output_video_base + f\"_from_{start_date}.mp4\",\n",
    "    #              frame_rate=9,\n",
    "    #              side_by_side=True,\n",
    "    #              dir2=dir_second,\n",
    "    #              start_date_str=start_date,\n",
    "    #              end_date_str=None) # Only start date\n",
    "\n",
    "    # # --- Scenario 3: Side-by-side, end date filter only ---\n",
    "    # print(\"\\n--- Running Scenario 3: Side-by-side, filtered until 31 Dec 2021 ---\")\n",
    "    # end_date = \"31122021\"\n",
    "    # create_video(dir_first,\n",
    "    #              output_video_base + f\"_until_{end_date}.mp4\",\n",
    "    #              frame_rate=9,\n",
    "    #              side_by_side=True,\n",
    "    #              dir2=dir_second,\n",
    "    #              start_date_str=None, # Only end date\n",
    "    #              end_date_str=end_date)\n",
    "\n",
    "    # --- Scenario 4: Side-by-side, both start and end date filter ---\n",
    "    start_date_range = \"01012018\"\n",
    "    end_date_range = \"31122019\"\n",
    "    create_video(dir_first,\n",
    "                 output_video_base + f\"_between_{start_date_range}_and_{end_date_range}.mp4\",\n",
    "                 frame_rate=6,\n",
    "                 side_by_side=True,\n",
    "                 dir2=dir_second,\n",
    "                 start_date_str=start_date_range, # Both dates\n",
    "                 end_date_str=end_date_range)\n",
    "\n",
    "    # --- Scenario 5: Single directory, date range filter (Example) ---\n",
    "    # print(\"\\n--- Running Scenario 5: Single directory, filtered range ---\")\n",
    "    # output_video_single_filtered = '/path/to/output_single_filtered_range.mp4'\n",
    "    # start_date_single = \"15062019\"\n",
    "    # end_date_single = \"14072019\"\n",
    "    # create_video(dir_first, # Using dir_first as example\n",
    "    #              output_video_single_filtered,\n",
    "    #              frame_rate=3,\n",
    "    #              side_by_side=False,\n",
    "    #              start_date_str=start_date_single,\n",
    "    #              end_date_str=end_date_single)"
   ]
  },
  {
   "cell_type": "markdown",
   "metadata": {},
   "source": [
    "### PNG to MP4 Linear time"
   ]
  },
  {
   "cell_type": "code",
   "execution_count": null,
   "metadata": {},
   "outputs": [],
   "source": [
    "import os\n",
    "import cv2\n",
    "from datetime import datetime\n",
    "\n",
    "def add_text_to_image(\n",
    "    image,\n",
    "    date_text,\n",
    "    time_text,\n",
    "    identifier_text,\n",
    "    position=(40, 70),\n",
    "    font_scale=1,\n",
    "    font_color=(255, 255, 255)\n",
    "):\n",
    "    font = cv2.FONT_HERSHEY_SIMPLEX\n",
    "    date_position = position\n",
    "    time_position = (position[0], position[1] + 40)      # Position time below date\n",
    "    identifier_position = (position[0], position[1] + 80)# Position identifier below time\n",
    "    \n",
    "    # Black text for better contrast\n",
    "    font_color = (0, 0, 0)\n",
    "    cv2.putText(image, date_text, date_position, font, font_scale, font_color, 2, cv2.LINE_AA)\n",
    "    cv2.putText(image, time_text, time_position, font, font_scale, font_color, 2, cv2.LINE_AA)\n",
    "    cv2.putText(image, identifier_text, identifier_position, font, font_scale, font_color, 2, cv2.LINE_AA)\n",
    "\n",
    "    return image\n",
    "\n",
    "def create_timelapse_video_linear_time(\n",
    "    image_folder,\n",
    "    video_name,\n",
    "    nominal_fps=30,\n",
    "    real_seconds_per_video_second=86400\n",
    "):\n",
    "    \"\"\"\n",
    "    Create a video whose frame spacing is proportional to the real time intervals \n",
    "    between images. The final video has a nominal frame rate = nominal_fps, \n",
    "    but we replicate frames to reflect actual time differences.\n",
    "\n",
    "    :param image_folder: path to folder with .png images\n",
    "    :param video_name: output .mp4 video filepath\n",
    "    :param nominal_fps: the nominal FPS to use in the video container\n",
    "    :param real_seconds_per_video_second: how many real-world seconds \n",
    "        correspond to 1 second of video. For example:\n",
    "        - 86400 = 24 hours real time -> 1 second of video\n",
    "        - 3600  =  1 hour  real time -> 1 second of video\n",
    "        - etc.\n",
    "    \"\"\"\n",
    "    \n",
    "    # 1. Gather and parse images with their timestamps\n",
    "    all_files = [f for f in os.listdir(image_folder) if f.endswith(\".png\")]\n",
    "    \n",
    "    # Parse datetime from filenames. Adapt these slices to your actual filename pattern.\n",
    "    image_info = []\n",
    "    for f in all_files:\n",
    "        # Example filename pattern: S1A_..._20170101T072022_... \n",
    "        # year = f[17:21], month = f[21:23], day = f[23:25]\n",
    "        # hh = f[26:28], mm = f[28:30], ss = f[30:32], sat = f[0:3]\n",
    "        try:\n",
    "            year = int(f[17:21])\n",
    "            month = int(f[21:23])\n",
    "            day = int(f[23:25])\n",
    "            hh = int(f[26:28])\n",
    "            mm = int(f[28:30])\n",
    "            ss = int(f[30:32])\n",
    "            sat = f[0:3]\n",
    "\n",
    "            dt = datetime(year, month, day, hh, mm, ss)\n",
    "            image_info.append((f, dt, sat))\n",
    "        except ValueError:\n",
    "            # If parsing fails for a file, skip it\n",
    "            continue\n",
    "\n",
    "    # 2. Sort images by datetime\n",
    "    image_info.sort(key=lambda x: x[1])  # sort by dt\n",
    "\n",
    "    if not image_info:\n",
    "        print(\"No valid images found in folder.\")\n",
    "        return\n",
    "\n",
    "    # Read the first image to get size (height, width)\n",
    "    first_img_path = os.path.join(image_folder, image_info[0][0])\n",
    "    first_frame = cv2.imread(first_img_path)\n",
    "    height, width, layers = first_frame.shape\n",
    "\n",
    "    # 3. Create VideoWriter with the NOMINAL fps\n",
    "    fourcc = cv2.VideoWriter_fourcc(*'mp4v')\n",
    "    video_writer = cv2.VideoWriter(video_name, fourcc, nominal_fps, (width, height))\n",
    "\n",
    "    # 4. Loop through all images, compute time difference -> replicate frames\n",
    "    # We'll track the previous time to compute deltas\n",
    "    prev_time = image_info[0][1]\n",
    "\n",
    "    # Write the very first frame (no delta)\n",
    "    f, dtobj, sat = image_info[0]\n",
    "    date_str = dtobj.strftime(\"%d/%m/%Y\")\n",
    "    time_str = dtobj.strftime(\"%H:%M:%S\")\n",
    "    \n",
    "    img = cv2.imread(os.path.join(image_folder, f))\n",
    "    img_with_text = add_text_to_image(img, date_str, time_str, sat)\n",
    "    # We'll always write at least 1 copy of the first image\n",
    "    video_writer.write(img_with_text)\n",
    "\n",
    "    for i in range(1, len(image_info)):\n",
    "        current_file, current_time, sat = image_info[i]\n",
    "\n",
    "        # Calculate real time difference in seconds from previous image\n",
    "        delta_seconds = (current_time - prev_time).total_seconds()\n",
    "        \n",
    "        # Convert that real time difference to how many *extra* frames to write\n",
    "        # real_seconds_per_video_second -> 1 second of video\n",
    "        # so in 'delta_seconds' real time => (delta_seconds / real_seconds_per_video_second) video-seconds\n",
    "        # then multiply by nominal_fps to get number of frames\n",
    "        num_frames = int((delta_seconds / real_seconds_per_video_second) * nominal_fps)\n",
    "\n",
    "        # Read this image\n",
    "        img_path = os.path.join(image_folder, current_file)\n",
    "        img = cv2.imread(img_path)\n",
    "        \n",
    "        # Add text\n",
    "        date_str = current_time.strftime(\"%d/%m/%Y\")\n",
    "        time_str = current_time.strftime(\"%H:%M:%S\")\n",
    "        img_with_text = add_text_to_image(img, date_str, time_str, sat)\n",
    "\n",
    "        # We write at least 1 frame for each new image to ensure it appears\n",
    "        # So the total frames we write is (1 + num_frames)\n",
    "        # If delta_seconds is very small, num_frames might be 0\n",
    "        frames_to_write = max(1, num_frames)\n",
    "\n",
    "        for _ in range(frames_to_write):\n",
    "            video_writer.write(img_with_text)\n",
    "\n",
    "        # Update prev_time\n",
    "        prev_time = current_time\n",
    "\n",
    "    video_writer.release()\n",
    "    cv2.destroyAllWindows()\n",
    "    print(f\"Video saved to: {video_name}\")\n",
    "\n",
    "# -------------------------------------------------------------------------\n",
    "# Example usage:\n",
    "# You can tune real_seconds_per_video_second as desired:\n",
    "#   86400  => 1 day of real time corresponds to 1 second of video\n",
    "#   3600   => 1 hour of real time => 1 second of video\n",
    "#   etc.\n",
    "# Also tune nominal_fps if you want the final container to be e.g. 25, 30, ...\n",
    "# -------------------------------------------------------------------------\n",
    "\n",
    "if __name__ == \"__main__\":\n",
    "    png_folder = \"/mnt/raid01/SAR/Sentinel-1/Arctic/ArcticDeepSeepsData/AOIs_timeseries_mp4/western_svalbard_png_2/\"\n",
    "    video_destination = \"/mnt/raid01/SAR/Sentinel-1/Arctic/ArcticDeepSeepsData/AOIs_timeseries_mp4/Western_Svalbard_linear_time.mp4\"\n",
    "    \n",
    "    # 3 means nominal 3 fps in the video container. \n",
    "    # For every real 86,400 seconds (1 day), we spend 1 second in the video.\n",
    "    create_timelapse_video_linear_time(\n",
    "        image_folder=png_folder,\n",
    "        video_name=video_destination,\n",
    "        nominal_fps=3,\n",
    "        real_seconds_per_video_second=86400  # 1 day of real time -> 1s of video\n",
    "    )\n"
   ]
  }
 ],
 "metadata": {
  "kernelspec": {
   "display_name": "Python 3",
   "language": "python",
   "name": "python3"
  },
  "language_info": {
   "codemirror_mode": {
    "name": "ipython",
    "version": 3
   },
   "file_extension": ".py",
   "mimetype": "text/x-python",
   "name": "python",
   "nbconvert_exporter": "python",
   "pygments_lexer": "ipython3",
   "version": "3.10.13"
  }
 },
 "nbformat": 4,
 "nbformat_minor": 2
}
